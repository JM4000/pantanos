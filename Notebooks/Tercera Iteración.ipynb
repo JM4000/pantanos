{
 "cells": [
  {
   "cell_type": "markdown",
   "id": "d24c19a9",
   "metadata": {},
   "source": [
    "# Set up"
   ]
  },
  {
   "cell_type": "code",
   "execution_count": 1,
   "id": "826c088c",
   "metadata": {},
   "outputs": [],
   "source": [
    "import numpy as np\n",
    "import matplotlib.pyplot as plt\n",
    "import pandas as pd\n",
    "import torch\n",
    "import torch.nn as nn\n",
    "from sklearn.preprocessing import MinMaxScaler\n",
    "from sklearn.metrics import mean_squared_error, mean_absolute_error\n",
    "from tqdm.notebook import tqdm\n",
    "from functools import reduce\n",
    "import json\n",
    "\n",
    "torch.set_default_tensor_type('torch.cuda.FloatTensor')"
   ]
  },
  {
   "cell_type": "markdown",
   "id": "d1df6bae",
   "metadata": {},
   "source": [
    "# Modularización\n",
    "\n",
    "## General"
   ]
  },
  {
   "cell_type": "code",
   "execution_count": 2,
   "id": "89862f91",
   "metadata": {},
   "outputs": [],
   "source": [
    "def sliding_windows(data, seq_length):\n",
    "    x = []\n",
    "    y = []\n",
    "\n",
    "    for i in range(len(data)-seq_length-1):\n",
    "        _x = data[i:(i+seq_length)]\n",
    "        _y = data[i+seq_length]\n",
    "        x.append(_x)\n",
    "        y.append(_y)\n",
    "\n",
    "    return np.array(x),np.array(y)\n",
    "\n",
    "def mean_absolute_percentage_error(y_true, y_pred): \n",
    "    \"\"\"Calculates MAPE given y_true and y_pred\"\"\"\n",
    "    y_true, y_pred = np.array(y_true), np.array(y_pred)\n",
    "    return np.mean(np.abs((y_true - y_pred) / y_true)) * 100\n",
    "\n",
    "color_pal = [\"#F8766D\", \"#D39200\", \"#93AA00\", \"#00BA38\", \"#00C19F\", \"#00B9E3\", \"#619CFF\", \"#DB72FB\"]          # Paleta de colores Rojo - Naranja - Verdes - Azules - Morado\n",
    "\n",
    "sc = MinMaxScaler()\n",
    "\n",
    "def medirPrecision(model, dataX, dataY, eficiencia):\n",
    "\n",
    "  model.eval()\n",
    "  train_predict = model(dataX)\n",
    "\n",
    "  data_predict = train_predict.data.cpu().numpy()\n",
    "  dataY_plot = dataY.data.cpu().numpy()\n",
    "\n",
    "  data_predict = sc.inverse_transform(data_predict)\n",
    "  dataY_plot = sc.inverse_transform(dataY_plot)\n",
    "\n",
    "  mse = mean_squared_error(dataY_plot, data_predict)\n",
    "  mape = mean_absolute_percentage_error(dataY_plot, data_predict)\n",
    "\n",
    "  print(\"MSE: \"+ str(mse.item()) + \" MAPE: \"+ str(mape.item()))\n",
    "\n",
    "  # Para poder ver mejor los datos, vamos a normalizar las pérdidas\n",
    "  #temp_df = eficiencia.copy()\n",
    "  #temp_df['Pérdida'] = MinMaxScaler().fit_transform(np.array(temp_df['Pérdida']).reshape(-1,1))\n",
    "  #eficiencia.plot(x='Época', y='Pérdida', xlim=(0,500))\n",
    "  #plt.show()\n",
    "  #eficiencia.plot(x='Época', y='Pérdida')\n",
    "  #plt.show()"
   ]
  },
  {
   "cell_type": "markdown",
   "id": "332374c4",
   "metadata": {},
   "source": [
    "## LSTM"
   ]
  },
  {
   "cell_type": "code",
   "execution_count": 3,
   "id": "514fb192",
   "metadata": {},
   "outputs": [],
   "source": [
    "class LSTM(nn.Module):\n",
    "\n",
    "    def __init__(self, num_classes, input_size, hidden_size, num_layers, seq_legth):\n",
    "        super(LSTM, self).__init__()\n",
    "        \n",
    "        self.num_classes = num_classes\n",
    "        self.num_layers = num_layers\n",
    "        self.input_size = input_size\n",
    "        self.hidden_size = hidden_size\n",
    "        self.seq_length = seq_legth\n",
    "        \n",
    "        self.lstm = nn.LSTM(input_size=input_size, hidden_size=hidden_size,\n",
    "                            num_layers=num_layers, batch_first=True)\n",
    "        \n",
    "        self.fc = nn.Linear(hidden_size, num_classes)\n",
    "\n",
    "    def forward(self, x): \n",
    "        h_0 = torch.zeros(self.num_layers, x.size(0), self.hidden_size)\n",
    "        \n",
    "        c_0 =torch.zeros(self.num_layers, x.size(0), self.hidden_size)\n",
    "        \n",
    "        # Propagate input through LSTM\n",
    "        ula, (h_out, _) = self.lstm(x, (h_0, c_0))\n",
    "        \n",
    "        h_out = h_out.view(-1, self.hidden_size)\n",
    "        \n",
    "        out = self.fc(h_out)\n",
    "        \n",
    "        return out\n",
    "\n",
    "def entrenarLSTM(training_set, train_percentage, num_epochs, seq_length, learning_rate, input_size, hidden_size, num_layers, num_classes):\n",
    "\n",
    "  training_data = sc.fit_transform(training_set)\n",
    "\n",
    "  x, y = sliding_windows(training_data, seq_length)\n",
    "\n",
    "  train_size = int(len(y) * train_percentage)\n",
    "  test_size = len(y) - train_size\n",
    "\n",
    "  dataX = torch.Tensor(np.array(x))\n",
    "  dataY = torch.Tensor(np.array(y))\n",
    "\n",
    "  trainX = torch.Tensor(np.array(x[0:train_size]))\n",
    "  trainY = torch.Tensor(np.array(y[0:train_size]))\n",
    "\n",
    "  testX = torch.Tensor(np.array(x[train_size:len(x)]))\n",
    "  testY = torch.Tensor(np.array(y[train_size:len(y)]))\n",
    "\n",
    "  lstm = LSTM(num_classes, input_size, hidden_size, num_layers, seq_length)\n",
    "\n",
    "  criterion = torch.nn.MSELoss()    # mean-squared error for regression\n",
    "  optimizer = torch.optim.Adam(lstm.parameters(), lr=learning_rate)\n",
    "\n",
    "  # Lo siguiente es solo para guardar la curva de eficiencia\n",
    "  eficiencia = []\n",
    "\n",
    "  # Train the model\n",
    "  pbar = tqdm(range(num_epochs))\n",
    "  for epoch in pbar:\n",
    "      outputs = lstm(trainX)\n",
    "      optimizer.zero_grad()\n",
    "      \n",
    "      # obtain the loss function\n",
    "      loss = criterion(outputs, trainY)\n",
    "      \n",
    "      loss.backward()\n",
    "      \n",
    "      optimizer.step()\n",
    "\n",
    "      eficiencia.append([epoch, loss.item()])\n",
    "      if epoch % 100 == 0:\n",
    "        pbar.set_description(\"Epoch: %d, loss: %1.5f\" % (epoch, loss.item()))\n",
    "\n",
    "  eficiencia = pd.DataFrame(eficiencia, columns=['Época', 'Pérdida'])\n",
    "  return lstm, dataX, dataY, eficiencia"
   ]
  },
  {
   "cell_type": "markdown",
   "id": "97823b96",
   "metadata": {},
   "source": [
    "## GRU"
   ]
  },
  {
   "cell_type": "code",
   "execution_count": 7,
   "id": "00d80972",
   "metadata": {},
   "outputs": [],
   "source": [
    "class GRU(nn.Module):\n",
    "    def __init__(self, num_classes, input_size, hidden_size, num_layers, seq_length):\n",
    "        super(GRU, self).__init__()\n",
    "        self.hidden_size  = hidden_size\n",
    "        self.num_layers = num_layers\n",
    "        \n",
    "        self.gru = nn.GRU(input_size, hidden_size, num_layers, batch_first=True)\n",
    "        self.fc1 = nn.Linear(hidden_size * seq_length, num_classes)\n",
    "    \n",
    "    def forward(self, x):\n",
    "        h0 = torch.zeros(self.num_layers, x.size(0), self.hidden_size)\n",
    "        \n",
    "        out,_ = self.gru(x, h0)\n",
    "        out = out.reshape(out.shape[0], -1)\n",
    "        out = self.fc1(out)\n",
    "        return out\n",
    "    \n",
    "def entrenarGRU(training_set, train_percentage, num_epochs, seq_length, learning_rate, input_size, hidden_size, num_layers, num_classes):\n",
    "\n",
    "  training_data = sc.fit_transform(training_set)\n",
    "\n",
    "  x, y = sliding_windows(training_data, seq_length)\n",
    "\n",
    "  train_size = int(len(y) * train_percentage)\n",
    "  test_size = len(y) - train_size\n",
    "\n",
    "  dataX = torch.Tensor(np.array(x))\n",
    "  dataY = torch.Tensor(np.array(y))\n",
    "\n",
    "  trainX = torch.Tensor(np.array(x[0:train_size]))\n",
    "  trainY = torch.Tensor(np.array(y[0:train_size]))\n",
    "\n",
    "  testX = torch.Tensor(np.array(x[train_size:len(x)]))\n",
    "  testY = torch.Tensor(np.array(y[train_size:len(y)]))\n",
    "\n",
    "  gru = GRU(num_classes, input_size, hidden_size, num_layers, seq_length)\n",
    "\n",
    "  criterion = torch.nn.MSELoss()    # mean-squared error for regression\n",
    "  optimizer = torch.optim.Adam(gru.parameters(), lr=learning_rate)\n",
    "\n",
    "  # Lo siguiente es solo para guardar la curva de eficiencia\n",
    "  eficiencia = []\n",
    "\n",
    "  # Train the model\n",
    "  pbar = tqdm(range(num_epochs))\n",
    "  for epoch in pbar:\n",
    "      outputs = gru(trainX)\n",
    "      optimizer.zero_grad()\n",
    "      \n",
    "      # obtain the loss function\n",
    "      loss = criterion(outputs[0], trainY[0])\n",
    "      \n",
    "      loss.backward()\n",
    "      \n",
    "      optimizer.step()\n",
    "\n",
    "      eficiencia.append([epoch, loss.item()])\n",
    "      if epoch % 100 == 0:\n",
    "        pbar.set_description(\"Epoch: %d, loss: %1.5f\" % (epoch, loss.item()))\n",
    "\n",
    "  eficiencia = pd.DataFrame(eficiencia, columns=['Época', 'Pérdida'])\n",
    "  return gru, dataX, dataY, eficiencia"
   ]
  },
  {
   "cell_type": "markdown",
   "id": "f7956aac",
   "metadata": {},
   "source": [
    "# Caso de estudio\n",
    "\n",
    "Para esta tercera iteración vamos a comprobar la viavilidad de agrupar en una sola red varios pantanos. Hemos elegido los pantanos de Guadalhorce, Conde de Guadalhorce y Guadalteba debido a su cercanía \n",
    "\n",
    "Lo primero que hay que hacer es preparar los datos, poniñendolos en un solo dataset.\n",
    "\n",
    "## Preparación del Dataset"
   ]
  },
  {
   "cell_type": "code",
   "execution_count": 29,
   "id": "68f9974d",
   "metadata": {
    "scrolled": true
   },
   "outputs": [],
   "source": [
    "guadName = \"GUADALHORCE\"\n",
    "\n",
    "guad12 = pd.read_csv(\"C:/Users/juanm/Desktop/Asignaturas/Cuarto/TFG/Scrapper/\"+guadName+\"/\"+guadName+\" 2012-01-01_2012-12-30.csv\", index_col=[0], parse_dates=True, dayfirst=True)\n",
    "guad13 = pd.read_csv(\"C:/Users/juanm/Desktop/Asignaturas/Cuarto/TFG/Scrapper/\"+guadName+\"/\"+guadName+\" 2013-01-01_2013-12-30.csv\", index_col=[0], parse_dates=True, dayfirst=True)\n",
    "guad14 = pd.read_csv(\"C:/Users/juanm/Desktop/Asignaturas/Cuarto/TFG/Scrapper/\"+guadName+\"/\"+guadName+\" 2014-01-01_2014-12-30.csv\", index_col=[0], parse_dates=True, dayfirst=True)\n",
    "guad15 = pd.read_csv(\"C:/Users/juanm/Desktop/Asignaturas/Cuarto/TFG/Scrapper/\"+guadName+\"/\"+guadName+\" 2015-01-01_2015-12-30.csv\", index_col=[0], parse_dates=True, dayfirst=True)\n",
    "guad16 = pd.read_csv(\"C:/Users/juanm/Desktop/Asignaturas/Cuarto/TFG/Scrapper/\"+guadName+\"/\"+guadName+\" 2016-01-01_2016-12-30.csv\", index_col=[0], parse_dates=True, dayfirst=True)\n",
    "guad17 = pd.read_csv(\"C:/Users/juanm/Desktop/Asignaturas/Cuarto/TFG/Scrapper/\"+guadName+\"/\"+guadName+\" 2017-01-01_2017-12-30.csv\", index_col=[0], parse_dates=True, dayfirst=True)\n",
    "guad18 = pd.read_csv(\"C:/Users/juanm/Desktop/Asignaturas/Cuarto/TFG/Scrapper/\"+guadName+\"/\"+guadName+\" 2018-01-01_2018-12-30.csv\", index_col=[0], parse_dates=True, dayfirst=True)\n",
    "guad19 = pd.read_csv(\"C:/Users/juanm/Desktop/Asignaturas/Cuarto/TFG/Scrapper/\"+guadName+\"/\"+guadName+\" 2019-01-01_2019-12-30.csv\", index_col=[0], parse_dates=True, dayfirst=True)\n",
    "guad20 = pd.read_csv(\"C:/Users/juanm/Desktop/Asignaturas/Cuarto/TFG/Scrapper/\"+guadName+\"/\"+guadName+\" 2020-01-01_2020-12-30.csv\", index_col=[0], parse_dates=True, dayfirst=True)\n",
    "guad21 = pd.read_csv(\"C:/Users/juanm/Desktop/Asignaturas/Cuarto/TFG/Scrapper/\"+guadName+\"/\"+guadName+\" 2021-01-01_2021-12-30.csv\", index_col=[0], parse_dates=True, dayfirst=True)\n",
    "guad22 = pd.read_csv(\"C:/Users/juanm/Desktop/Asignaturas/Cuarto/TFG/Scrapper/\"+guadName+\"/\"+guadName+\" 2022-01-01_2022-12-30.csv\", index_col=[0], parse_dates=True, dayfirst=True)\n",
    "\n",
    "sampleDF = pd.concat([guad12, guad13,guad14,guad15,guad16,guad17,guad18,guad19,guad20,guad21,guad22], axis=0)"
   ]
  },
  {
   "cell_type": "code",
   "execution_count": 34,
   "id": "7aedfa68",
   "metadata": {},
   "outputs": [
    {
     "data": {
      "image/png": "[encoded data removed]",
      "text/plain": [
       "<Figure size 1500x500 with 1 Axes>"
      ]
     },
     "metadata": {},
     "output_type": "display_data"
    }
   ],
   "source": [
    "_ = guadDF.plot(style='-', figsize=(15,5), color=color_pal[0], title='Nivel del agua')"
   ]
  },
  {
   "cell_type": "markdown",
   "id": "ee065a53",
   "metadata": {},
   "source": [
    "Vale, esto es infinitamente mejor a como estaba uniendo los diferentes años (a mano), vamos a preparar una función que lo haga, metiendo solo el nombre."
   ]
  },
  {
   "cell_type": "code",
   "execution_count": 8,
   "id": "ac0fb996",
   "metadata": {},
   "outputs": [],
   "source": [
    "def concatenarAnnos(nombre: str):\n",
    "    anno12 = pd.read_csv(\"C:/Users/juanm/Desktop/Asignaturas/Cuarto/TFG/Scrapper/\"+nombre+\"/\"+nombre+\" 2012-01-01_2012-12-30.csv\", index_col=[0], parse_dates=True, dayfirst=True)\n",
    "    anno13 = pd.read_csv(\"C:/Users/juanm/Desktop/Asignaturas/Cuarto/TFG/Scrapper/\"+nombre+\"/\"+nombre+\" 2013-01-01_2013-12-30.csv\", index_col=[0], parse_dates=True, dayfirst=True)\n",
    "    anno14 = pd.read_csv(\"C:/Users/juanm/Desktop/Asignaturas/Cuarto/TFG/Scrapper/\"+nombre+\"/\"+nombre+\" 2014-01-01_2014-12-30.csv\", index_col=[0], parse_dates=True, dayfirst=True)\n",
    "    anno15 = pd.read_csv(\"C:/Users/juanm/Desktop/Asignaturas/Cuarto/TFG/Scrapper/\"+nombre+\"/\"+nombre+\" 2015-01-01_2015-12-30.csv\", index_col=[0], parse_dates=True, dayfirst=True)\n",
    "    anno16 = pd.read_csv(\"C:/Users/juanm/Desktop/Asignaturas/Cuarto/TFG/Scrapper/\"+nombre+\"/\"+nombre+\" 2016-01-01_2016-12-30.csv\", index_col=[0], parse_dates=True, dayfirst=True)\n",
    "    anno17 = pd.read_csv(\"C:/Users/juanm/Desktop/Asignaturas/Cuarto/TFG/Scrapper/\"+nombre+\"/\"+nombre+\" 2017-01-01_2017-12-30.csv\", index_col=[0], parse_dates=True, dayfirst=True)\n",
    "    anno18 = pd.read_csv(\"C:/Users/juanm/Desktop/Asignaturas/Cuarto/TFG/Scrapper/\"+nombre+\"/\"+nombre+\" 2018-01-01_2018-12-30.csv\", index_col=[0], parse_dates=True, dayfirst=True)\n",
    "    anno19 = pd.read_csv(\"C:/Users/juanm/Desktop/Asignaturas/Cuarto/TFG/Scrapper/\"+nombre+\"/\"+nombre+\" 2019-01-01_2019-12-30.csv\", index_col=[0], parse_dates=True, dayfirst=True)\n",
    "    anno20 = pd.read_csv(\"C:/Users/juanm/Desktop/Asignaturas/Cuarto/TFG/Scrapper/\"+nombre+\"/\"+nombre+\" 2020-01-01_2020-12-30.csv\", index_col=[0], parse_dates=True, dayfirst=True)\n",
    "    anno21 = pd.read_csv(\"C:/Users/juanm/Desktop/Asignaturas/Cuarto/TFG/Scrapper/\"+nombre+\"/\"+nombre+\" 2021-01-01_2021-12-30.csv\", index_col=[0], parse_dates=True, dayfirst=True)\n",
    "    anno22 = pd.read_csv(\"C:/Users/juanm/Desktop/Asignaturas/Cuarto/TFG/Scrapper/\"+nombre+\"/\"+nombre+\" 2022-01-01_2022-12-30.csv\", index_col=[0], parse_dates=True, dayfirst=True)\n",
    "\n",
    "    annoDF = pd.concat([anno12, anno13,anno14,anno15,anno16,anno17,anno18,anno19,anno20,anno21,anno22], axis=0)\n",
    "    \n",
    "    #annoDF.rename(columns={'Reserva' : nombre},inplace=True) #Reactivar si se vuelve a los varios pantanos\n",
    "    \n",
    "    return annoDF"
   ]
  },
  {
   "cell_type": "code",
   "execution_count": 9,
   "id": "8ab0fec7",
   "metadata": {},
   "outputs": [],
   "source": [
    "horceDF = concatenarAnnos(\"GUADALHORCE\")\n",
    "tebaDF = concatenarAnnos(\"GUADALTEBA\")\n",
    "condeDF = concatenarAnnos(\"CONDE DE GUADALHORCE\")"
   ]
  },
  {
   "cell_type": "code",
   "execution_count": 10,
   "id": "969a233a",
   "metadata": {
    "scrolled": false
   },
   "outputs": [
    {
     "data": {
      "image/png": "[encoded data removed]",
      "text/plain": [
       "<Figure size 1000x500 with 1 Axes>"
      ]
     },
     "metadata": {},
     "output_type": "display_data"
    }
   ],
   "source": [
    "ax = horceDF.plot(style='-', figsize=(10,5), color=color_pal[0], title='Nivel del agua (hm3)')\n",
    "tebaDF.plot(ax=ax)\n",
    "condeDF.plot(ax=ax)\n",
    "plt.legend(bbox_to_anchor=(1.02, 1), loc='upper left', borderaxespad=0)\n",
    "plt.show()"
   ]
  },
  {
   "cell_type": "markdown",
   "id": "1140efe6",
   "metadata": {},
   "source": [
    "Ya que tenemos los años juntos, ahora hay que juntar varias columnas juntas"
   ]
  },
  {
   "cell_type": "code",
   "execution_count": 11,
   "id": "032ba31b",
   "metadata": {},
   "outputs": [],
   "source": [
    "def concatenarReservas(pantanos : list):\n",
    "    sol = reduce(lambda  left,right: pd.merge(left,right,on=\"Fecha\"), pantanos)\n",
    "    return sol"
   ]
  },
  {
   "cell_type": "code",
   "execution_count": 15,
   "id": "41649460",
   "metadata": {},
   "outputs": [],
   "source": [
    "dataset = concatenarReservas([horceDF, tebaDF, condeDF])"
   ]
  },
  {
   "cell_type": "code",
   "execution_count": 16,
   "id": "f25fad2f",
   "metadata": {},
   "outputs": [
    {
     "data": {
      "image/png": "[encoded data removed]",
      "text/plain": [
       "<Figure size 1000x500 with 1 Axes>"
      ]
     },
     "metadata": {},
     "output_type": "display_data"
    }
   ],
   "source": [
    "_ = dataset.plot(style='-', figsize=(10,5), title='Nivel del agua')\n",
    "plt.legend(bbox_to_anchor=(1.02, 1), loc='upper left', borderaxespad=0)\n",
    "plt.show()"
   ]
  },
  {
   "cell_type": "code",
   "execution_count": 17,
   "id": "971a9b54",
   "metadata": {},
   "outputs": [
    {
     "data": {
      "text/html": [
       "<div>\n",
       "<style scoped>\n",
       "    .dataframe tbody tr th:only-of-type {\n",
       "        vertical-align: middle;\n",
       "    }\n",
       "\n",
       "    .dataframe tbody tr th {\n",
       "        vertical-align: top;\n",
       "    }\n",
       "\n",
       "    .dataframe thead th {\n",
       "        text-align: right;\n",
       "    }\n",
       "</style>\n",
       "<table border=\"1\" class=\"dataframe\">\n",
       "  <thead>\n",
       "    <tr style=\"text-align: right;\">\n",
       "      <th></th>\n",
       "      <th>GUADALHORCE</th>\n",
       "      <th>GUADALTEBA</th>\n",
       "      <th>CONDE DE GUADALHORCE</th>\n",
       "    </tr>\n",
       "    <tr>\n",
       "      <th>Fecha</th>\n",
       "      <th></th>\n",
       "      <th></th>\n",
       "      <th></th>\n",
       "    </tr>\n",
       "  </thead>\n",
       "  <tbody>\n",
       "    <tr>\n",
       "      <th>2012-01-01</th>\n",
       "      <td>108.36</td>\n",
       "      <td>140.04</td>\n",
       "      <td>44.81</td>\n",
       "    </tr>\n",
       "    <tr>\n",
       "      <th>2012-01-02</th>\n",
       "      <td>108.52</td>\n",
       "      <td>140.29</td>\n",
       "      <td>44.86</td>\n",
       "    </tr>\n",
       "    <tr>\n",
       "      <th>2012-01-11</th>\n",
       "      <td>112.31</td>\n",
       "      <td>139.57</td>\n",
       "      <td>45.16</td>\n",
       "    </tr>\n",
       "    <tr>\n",
       "      <th>2012-01-13</th>\n",
       "      <td>112.33</td>\n",
       "      <td>139.11</td>\n",
       "      <td>45.16</td>\n",
       "    </tr>\n",
       "    <tr>\n",
       "      <th>2012-01-24</th>\n",
       "      <td>113.27</td>\n",
       "      <td>137.37</td>\n",
       "      <td>45.29</td>\n",
       "    </tr>\n",
       "    <tr>\n",
       "      <th>...</th>\n",
       "      <td>...</td>\n",
       "      <td>...</td>\n",
       "      <td>...</td>\n",
       "    </tr>\n",
       "    <tr>\n",
       "      <th>2022-12-06</th>\n",
       "      <td>40.90</td>\n",
       "      <td>84.92</td>\n",
       "      <td>17.04</td>\n",
       "    </tr>\n",
       "    <tr>\n",
       "      <th>2022-12-11</th>\n",
       "      <td>41.68</td>\n",
       "      <td>84.82</td>\n",
       "      <td>17.24</td>\n",
       "    </tr>\n",
       "    <tr>\n",
       "      <th>2022-12-14</th>\n",
       "      <td>42.17</td>\n",
       "      <td>84.80</td>\n",
       "      <td>17.59</td>\n",
       "    </tr>\n",
       "    <tr>\n",
       "      <th>2022-12-24</th>\n",
       "      <td>45.12</td>\n",
       "      <td>85.45</td>\n",
       "      <td>20.06</td>\n",
       "    </tr>\n",
       "    <tr>\n",
       "      <th>2022-12-30</th>\n",
       "      <td>45.35</td>\n",
       "      <td>85.49</td>\n",
       "      <td>20.06</td>\n",
       "    </tr>\n",
       "  </tbody>\n",
       "</table>\n",
       "<p>1014 rows × 3 columns</p>\n",
       "</div>"
      ],
      "text/plain": [
       "            GUADALHORCE  GUADALTEBA  CONDE DE GUADALHORCE\n",
       "Fecha                                                    \n",
       "2012-01-01       108.36      140.04                 44.81\n",
       "2012-01-02       108.52      140.29                 44.86\n",
       "2012-01-11       112.31      139.57                 45.16\n",
       "2012-01-13       112.33      139.11                 45.16\n",
       "2012-01-24       113.27      137.37                 45.29\n",
       "...                 ...         ...                   ...\n",
       "2022-12-06        40.90       84.92                 17.04\n",
       "2022-12-11        41.68       84.82                 17.24\n",
       "2022-12-14        42.17       84.80                 17.59\n",
       "2022-12-24        45.12       85.45                 20.06\n",
       "2022-12-30        45.35       85.49                 20.06\n",
       "\n",
       "[1014 rows x 3 columns]"
      ]
     },
     "execution_count": 17,
     "metadata": {},
     "output_type": "execute_result"
    }
   ],
   "source": [
    "dataset"
   ]
  },
  {
   "cell_type": "markdown",
   "id": "868eee86",
   "metadata": {},
   "source": [
    "Perfecto, ahora lo que hay que hacer es pasarle esto a la red"
   ]
  },
  {
   "cell_type": "markdown",
   "id": "fb936646",
   "metadata": {},
   "source": [
    "## Entrenamiento"
   ]
  },
  {
   "cell_type": "code",
   "execution_count": 18,
   "id": "41240755",
   "metadata": {
    "scrolled": false
   },
   "outputs": [
    {
     "data": {
      "application/vnd.jupyter.widget-view+json": {
       "model_id": "e33f1eec000143f2baf94b0ff893d1df",
       "version_major": 2,
       "version_minor": 0
      },
      "text/plain": [
       "  0%|          | 0/12000 [00:00<?, ?it/s]"
      ]
     },
     "metadata": {},
     "output_type": "display_data"
    }
   ],
   "source": [
    "num_epochs = 12000\n",
    "learning_rate = 0.01\n",
    "\n",
    "input_size = 3                  # 3 entradas en vez de 1\n",
    "hidden_size = 4\n",
    "num_layers = 1\n",
    "num_classes = 3                 # 3 salidas en vez de \n",
    "\n",
    "train_percentage = ((7*100)/11)\n",
    "seq_length = 21\n",
    "\n",
    "gru, dataX, dataY, eficiencia = entrenarGRU(dataset, train_percentage, num_epochs, seq_length, learning_rate, input_size, hidden_size, num_layers, num_classes)"
   ]
  },
  {
   "cell_type": "code",
   "execution_count": 22,
   "id": "b1cf454e",
   "metadata": {},
   "outputs": [
    {
     "data": {
      "image/png": "[encoded data removed]",
      "text/plain": [
       "<Figure size 640x480 with 1 Axes>"
      ]
     },
     "metadata": {},
     "output_type": "display_data"
    },
    {
     "data": {
      "image/png": "[encoded data removed]",
      "text/plain": [
       "<Figure size 640x480 with 1 Axes>"
      ]
     },
     "metadata": {},
     "output_type": "display_data"
    }
   ],
   "source": [
    "gru.eval()\n",
    "train_predict = gru(dataX)\n",
    "\n",
    "data_predict = train_predict.data.cpu().numpy()\n",
    "dataY_plot = dataY.data.cpu().numpy()\n",
    "\n",
    "data_predict = sc.inverse_transform(data_predict)\n",
    "dataY_plot = sc.inverse_transform(dataY_plot)\n",
    "\n",
    "plt.plot(dataY_plot)\n",
    "plt.suptitle('Datos originales')\n",
    "plt.show()\n",
    "plt.plot(data_predict)\n",
    "plt.suptitle('GRU 11 años')\n",
    "plt.show()"
   ]
  },
  {
   "cell_type": "code",
   "execution_count": 23,
   "id": "23df3820",
   "metadata": {},
   "outputs": [
    {
     "name": "stdout",
     "output_type": "stream",
     "text": [
      "MSE: 2.0377283096313477 MAPE: 1.2864130549132824\n"
     ]
    }
   ],
   "source": [
    "medirPrecision(gru, dataX, dataY, eficiencia)"
   ]
  },
  {
   "cell_type": "markdown",
   "id": "e6c0b8ea",
   "metadata": {},
   "source": [
    "Me parece extremadamente raro el aumento de error de golpe, voy a hacer otra función que compruebe por pantano el error, por si no funciona la función original."
   ]
  },
  {
   "cell_type": "code",
   "execution_count": 20,
   "id": "493e01b8",
   "metadata": {},
   "outputs": [],
   "source": [
    "def medirPrecisionPorColumnas(datos, prediccion):\n",
    "    \n",
    "    l = len(datos[0])\n",
    "    for i in range(0, l):\n",
    "        mse = mean_squared_error(datos[:,i], prediccion[:,i])\n",
    "        mape = mean_absolute_percentage_error(datos[:,i], prediccion[:,i])\n",
    "        \n",
    "        print(\" Columna \"+str(i)+\" MSE: \"+ str(mse.item()) + \" MAPE: \"+ str(mape.item()))"
   ]
  },
  {
   "cell_type": "code",
   "execution_count": 25,
   "id": "24cd6c75",
   "metadata": {},
   "outputs": [
    {
     "name": "stdout",
     "output_type": "stream",
     "text": [
      " Columna 0 MSE: 2.0413095951080322 MAPE: 0.9285381995141506\n",
      " Columna 1 MSE: 1.909479022026062 MAPE: 0.6534537766128778\n",
      " Columna 2 MSE: 2.1623988151550293 MAPE: 2.2772474214434624\n"
     ]
    }
   ],
   "source": [
    "medirPrecisionPorColumnas(dataY_plot, data_predict)"
   ]
  },
  {
   "cell_type": "markdown",
   "id": "318afa20",
   "metadata": {},
   "source": [
    "Pues si funciona correctamente, a ver si entrenando 20 veces se mantiene"
   ]
  },
  {
   "cell_type": "code",
   "execution_count": 27,
   "id": "576c463e",
   "metadata": {},
   "outputs": [
    {
     "data": {
      "application/vnd.jupyter.widget-view+json": {
       "model_id": "b1c7be1668f841ec9fcbfdc5024466a8",
       "version_major": 2,
       "version_minor": 0
      },
      "text/plain": [
       "  0%|          | 0/12000 [00:00<?, ?it/s]"
      ]
     },
     "metadata": {},
     "output_type": "display_data"
    },
    {
     "name": "stdout",
     "output_type": "stream",
     "text": [
      "MSE: 2.068497896194458 MAPE: 1.2925305403769016\n"
     ]
    },
    {
     "data": {
      "application/vnd.jupyter.widget-view+json": {
       "model_id": "13e5c9cc67ec45b59e78d8268210c4a7",
       "version_major": 2,
       "version_minor": 0
      },
      "text/plain": [
       "  0%|          | 0/12000 [00:00<?, ?it/s]"
      ]
     },
     "metadata": {},
     "output_type": "display_data"
    },
    {
     "name": "stdout",
     "output_type": "stream",
     "text": [
      "MSE: 2.0568721294403076 MAPE: 1.3148212805390358\n"
     ]
    },
    {
     "data": {
      "application/vnd.jupyter.widget-view+json": {
       "model_id": "2d48c219b85e499a95b53bd37ddc022b",
       "version_major": 2,
       "version_minor": 0
      },
      "text/plain": [
       "  0%|          | 0/12000 [00:00<?, ?it/s]"
      ]
     },
     "metadata": {},
     "output_type": "display_data"
    },
    {
     "name": "stdout",
     "output_type": "stream",
     "text": [
      "MSE: 2.1169607639312744 MAPE: 1.3214357197284698\n"
     ]
    },
    {
     "data": {
      "application/vnd.jupyter.widget-view+json": {
       "model_id": "e98d314418664969a1e8f7a5784d4497",
       "version_major": 2,
       "version_minor": 0
      },
      "text/plain": [
       "  0%|          | 0/12000 [00:00<?, ?it/s]"
      ]
     },
     "metadata": {},
     "output_type": "display_data"
    },
    {
     "name": "stdout",
     "output_type": "stream",
     "text": [
      "MSE: 2.044633150100708 MAPE: 1.3132231310009956\n"
     ]
    },
    {
     "data": {
      "application/vnd.jupyter.widget-view+json": {
       "model_id": "502472dc5779457e90138e95d12f8767",
       "version_major": 2,
       "version_minor": 0
      },
      "text/plain": [
       "  0%|          | 0/12000 [00:00<?, ?it/s]"
      ]
     },
     "metadata": {},
     "output_type": "display_data"
    },
    {
     "name": "stdout",
     "output_type": "stream",
     "text": [
      "MSE: 1.9313926696777344 MAPE: 1.2595892883837223\n"
     ]
    },
    {
     "data": {
      "application/vnd.jupyter.widget-view+json": {
       "model_id": "78a9a6b7801f49e6813bd506eff00a3a",
       "version_major": 2,
       "version_minor": 0
      },
      "text/plain": [
       "  0%|          | 0/12000 [00:00<?, ?it/s]"
      ]
     },
     "metadata": {},
     "output_type": "display_data"
    },
    {
     "name": "stdout",
     "output_type": "stream",
     "text": [
      "MSE: 2.0477163791656494 MAPE: 1.2428194284439087\n"
     ]
    },
    {
     "data": {
      "application/vnd.jupyter.widget-view+json": {
       "model_id": "cce6b58eeaa9440e915446c449b46245",
       "version_major": 2,
       "version_minor": 0
      },
      "text/plain": [
       "  0%|          | 0/12000 [00:00<?, ?it/s]"
      ]
     },
     "metadata": {},
     "output_type": "display_data"
    },
    {
     "name": "stdout",
     "output_type": "stream",
     "text": [
      "MSE: 3.403604745864868 MAPE: 2.068648487329483\n"
     ]
    },
    {
     "data": {
      "application/vnd.jupyter.widget-view+json": {
       "model_id": "982eb2a469ba47f4b204c8814fb38cb3",
       "version_major": 2,
       "version_minor": 0
      },
      "text/plain": [
       "  0%|          | 0/12000 [00:00<?, ?it/s]"
      ]
     },
     "metadata": {},
     "output_type": "display_data"
    },
    {
     "name": "stdout",
     "output_type": "stream",
     "text": [
      "MSE: 2.0145161151885986 MAPE: 1.296047493815422\n"
     ]
    },
    {
     "data": {
      "application/vnd.jupyter.widget-view+json": {
       "model_id": "4f9fc19741f84fd3a88cbd6378a51619",
       "version_major": 2,
       "version_minor": 0
      },
      "text/plain": [
       "  0%|          | 0/12000 [00:00<?, ?it/s]"
      ]
     },
     "metadata": {},
     "output_type": "display_data"
    },
    {
     "name": "stdout",
     "output_type": "stream",
     "text": [
      "MSE: 2.0031962394714355 MAPE: 1.2769964523613453\n"
     ]
    },
    {
     "data": {
      "application/vnd.jupyter.widget-view+json": {
       "model_id": "21e4b97a1ac342d49a6c2868db220b96",
       "version_major": 2,
       "version_minor": 0
      },
      "text/plain": [
       "  0%|          | 0/12000 [00:00<?, ?it/s]"
      ]
     },
     "metadata": {},
     "output_type": "display_data"
    },
    {
     "name": "stdout",
     "output_type": "stream",
     "text": [
      "MSE: 1.9510679244995117 MAPE: 1.2850794941186905\n"
     ]
    },
    {
     "data": {
      "application/vnd.jupyter.widget-view+json": {
       "model_id": "1f4836a1495548afb71e70412aaf707b",
       "version_major": 2,
       "version_minor": 0
      },
      "text/plain": [
       "  0%|          | 0/12000 [00:00<?, ?it/s]"
      ]
     },
     "metadata": {},
     "output_type": "display_data"
    },
    {
     "name": "stdout",
     "output_type": "stream",
     "text": [
      "MSE: 1.989156723022461 MAPE: 1.2830045074224472\n"
     ]
    },
    {
     "data": {
      "application/vnd.jupyter.widget-view+json": {
       "model_id": "569337b4fdd54034a3ba97832cc15292",
       "version_major": 2,
       "version_minor": 0
      },
      "text/plain": [
       "  0%|          | 0/12000 [00:00<?, ?it/s]"
      ]
     },
     "metadata": {},
     "output_type": "display_data"
    },
    {
     "name": "stdout",
     "output_type": "stream",
     "text": [
      "MSE: 2.0290403366088867 MAPE: 1.2728098779916763\n"
     ]
    },
    {
     "data": {
      "application/vnd.jupyter.widget-view+json": {
       "model_id": "035b54369a0c4aa6b0e304f7d1250464",
       "version_major": 2,
       "version_minor": 0
      },
      "text/plain": [
       "  0%|          | 0/12000 [00:00<?, ?it/s]"
      ]
     },
     "metadata": {},
     "output_type": "display_data"
    },
    {
     "name": "stdout",
     "output_type": "stream",
     "text": [
      "MSE: 3.510432481765747 MAPE: 2.108108438551426\n"
     ]
    },
    {
     "data": {
      "application/vnd.jupyter.widget-view+json": {
       "model_id": "8983f0ddb3ee46db8fb12d189044180e",
       "version_major": 2,
       "version_minor": 0
      },
      "text/plain": [
       "  0%|          | 0/12000 [00:00<?, ?it/s]"
      ]
     },
     "metadata": {},
     "output_type": "display_data"
    },
    {
     "name": "stdout",
     "output_type": "stream",
     "text": [
      "MSE: 1.9167014360427856 MAPE: 1.2473106384277344\n"
     ]
    },
    {
     "data": {
      "application/vnd.jupyter.widget-view+json": {
       "model_id": "c76a184ca2a845a8bef8ef598634fcb0",
       "version_major": 2,
       "version_minor": 0
      },
      "text/plain": [
       "  0%|          | 0/12000 [00:00<?, ?it/s]"
      ]
     },
     "metadata": {},
     "output_type": "display_data"
    },
    {
     "name": "stdout",
     "output_type": "stream",
     "text": [
      "MSE: 3.512561559677124 MAPE: 2.108781784772873\n"
     ]
    },
    {
     "data": {
      "application/vnd.jupyter.widget-view+json": {
       "model_id": "18fa736bf2ea4afca80a20ab74bbfc31",
       "version_major": 2,
       "version_minor": 0
      },
      "text/plain": [
       "  0%|          | 0/12000 [00:00<?, ?it/s]"
      ]
     },
     "metadata": {},
     "output_type": "display_data"
    },
    {
     "name": "stdout",
     "output_type": "stream",
     "text": [
      "MSE: 2.1128883361816406 MAPE: 1.2845956720411777\n"
     ]
    },
    {
     "data": {
      "application/vnd.jupyter.widget-view+json": {
       "model_id": "1d9f12f221e74dd78b196521405fe131",
       "version_major": 2,
       "version_minor": 0
      },
      "text/plain": [
       "  0%|          | 0/12000 [00:00<?, ?it/s]"
      ]
     },
     "metadata": {},
     "output_type": "display_data"
    },
    {
     "name": "stdout",
     "output_type": "stream",
     "text": [
      "MSE: 2.1350295543670654 MAPE: 1.3419010676443577\n"
     ]
    },
    {
     "data": {
      "application/vnd.jupyter.widget-view+json": {
       "model_id": "821d5e4d7cfa403fa0cc15eef88b1b4f",
       "version_major": 2,
       "version_minor": 0
      },
      "text/plain": [
       "  0%|          | 0/12000 [00:00<?, ?it/s]"
      ]
     },
     "metadata": {},
     "output_type": "display_data"
    },
    {
     "name": "stdout",
     "output_type": "stream",
     "text": [
      "MSE: 4.82749080657959 MAPE: 2.0402219146490097\n"
     ]
    },
    {
     "data": {
      "application/vnd.jupyter.widget-view+json": {
       "model_id": "f0e26be3f6374799b4fb1538ec2a0668",
       "version_major": 2,
       "version_minor": 0
      },
      "text/plain": [
       "  0%|          | 0/12000 [00:00<?, ?it/s]"
      ]
     },
     "metadata": {},
     "output_type": "display_data"
    },
    {
     "name": "stdout",
     "output_type": "stream",
     "text": [
      "MSE: 3.280938148498535 MAPE: 2.040378749370575\n"
     ]
    },
    {
     "data": {
      "application/vnd.jupyter.widget-view+json": {
       "model_id": "b159c792c89448e5b6b8699ba1f777cc",
       "version_major": 2,
       "version_minor": 0
      },
      "text/plain": [
       "  0%|          | 0/12000 [00:00<?, ?it/s]"
      ]
     },
     "metadata": {},
     "output_type": "display_data"
    },
    {
     "name": "stdout",
     "output_type": "stream",
     "text": [
      "MSE: 2.00183367729187 MAPE: 1.2596135959029198\n"
     ]
    }
   ],
   "source": [
    "num_epochs = 12000\n",
    "learning_rate = 0.01\n",
    "\n",
    "input_size = 3                  # 3 entradas en vez de 1\n",
    "hidden_size = 4\n",
    "num_layers = 1\n",
    "num_classes = 3                 # 3 salidas en vez de \n",
    "\n",
    "train_percentage = ((7*100)/11)\n",
    "seq_length = 21\n",
    "\n",
    "for i in range(0,20):\n",
    "    \n",
    "    gru, dataX, dataY, eficiencia = entrenarGRU(dataset, train_percentage, num_epochs, seq_length, learning_rate, input_size, hidden_size, num_layers, num_classes)\n",
    "    medirPrecision(gru, dataX, dataY, eficiencia)\n"
   ]
  },
  {
   "cell_type": "markdown",
   "id": "171a819b",
   "metadata": {},
   "source": [
    "Esto me extraña muchísimo, pero si es así de verdad, no merece la pena agrupar pantanos con estas redes.\n",
    "Voy a comprobar con un solo pantano a ver que pasa"
   ]
  },
  {
   "cell_type": "code",
   "execution_count": 28,
   "id": "c525314b",
   "metadata": {
    "scrolled": true
   },
   "outputs": [
    {
     "data": {
      "application/vnd.jupyter.widget-view+json": {
       "model_id": "1392093926e942a0b429a815bd315a35",
       "version_major": 2,
       "version_minor": 0
      },
      "text/plain": [
       "  0%|          | 0/12000 [00:00<?, ?it/s]"
      ]
     },
     "metadata": {},
     "output_type": "display_data"
    },
    {
     "name": "stdout",
     "output_type": "stream",
     "text": [
      "MSE: 1.5043463706970215 MAPE: 0.529099628329277\n"
     ]
    },
    {
     "data": {
      "application/vnd.jupyter.widget-view+json": {
       "model_id": "6a2988ff8cff4655854c5d097194fc3d",
       "version_major": 2,
       "version_minor": 0
      },
      "text/plain": [
       "  0%|          | 0/12000 [00:00<?, ?it/s]"
      ]
     },
     "metadata": {},
     "output_type": "display_data"
    },
    {
     "name": "stdout",
     "output_type": "stream",
     "text": [
      "MSE: 1.7585200071334839 MAPE: 0.6988089997321367\n"
     ]
    },
    {
     "data": {
      "application/vnd.jupyter.widget-view+json": {
       "model_id": "b9ac27de03db4041953e3b5756f34448",
       "version_major": 2,
       "version_minor": 0
      },
      "text/plain": [
       "  0%|          | 0/12000 [00:00<?, ?it/s]"
      ]
     },
     "metadata": {},
     "output_type": "display_data"
    },
    {
     "name": "stdout",
     "output_type": "stream",
     "text": [
      "MSE: 0.8659064173698425 MAPE: 0.967167317867279\n"
     ]
    }
   ],
   "source": [
    "num_epochs = 12000\n",
    "learning_rate = 0.01\n",
    "\n",
    "input_size = 1\n",
    "hidden_size = 4\n",
    "num_layers = 1\n",
    "num_classes = 1 \n",
    "\n",
    "train_percentage = ((7*100)/11)\n",
    "seq_length = 21\n",
    "\n",
    "gru, dataX, dataY, eficiencia = entrenarGRU(horceDF, train_percentage, num_epochs, seq_length, learning_rate, input_size, hidden_size, num_layers, num_classes)\n",
    "medirPrecision(gru, dataX, dataY, eficiencia)\n",
    "    \n",
    "\n",
    "gru, dataX, dataY, eficiencia = entrenarGRU(tebaDF, train_percentage, num_epochs, seq_length, learning_rate, input_size, hidden_size, num_layers, num_classes)\n",
    "medirPrecision(gru, dataX, dataY, eficiencia)\n",
    "\n",
    "  \n",
    "gru, dataX, dataY, eficiencia = entrenarGRU(condeDF, train_percentage, num_epochs, seq_length, learning_rate, input_size, hidden_size, num_layers, num_classes)\n",
    "medirPrecision(gru, dataX, dataY, eficiencia)"
   ]
  },
  {
   "attachments": {
    "image-2.png": {
     "image/png": "[encoded data removed]"
    },
    "image-3.png": {
     "image/png": "[encoded data removed]"
    },
    "image.png": {
     "image/png": "[encoded data removed]"
    }
   },
   "cell_type": "markdown",
   "id": "5b023d43",
   "metadata": {},
   "source": [
    "La ejecución falló en algún momento, pero creo que hay algún error en los datos de 2 de los pantanos en 2022.\n",
    "\n",
    "Guadalteba:\n",
    "![image.png](attachment:image.png)\n",
    "\n",
    "Fallo en 2 celdas\n",
    "\n",
    "Conde del Guadalhorce:\n",
    "![image-2.png](attachment:image-2.png)\n",
    "![image-3.png](attachment:image-3.png)\n",
    "Fallo en 2 celdas\n",
    "\n",
    "Siendo realistas, no espero que esto solucione nada, pero no está de más solucionar estos fallos"
   ]
  },
  {
   "cell_type": "markdown",
   "id": "217f0d8c",
   "metadata": {},
   "source": [
    "De esta segunda ronda de ejecuciones obtengo que es peor agrupar pantanos, seguro.\n",
    "\n",
    "Ahora quiero estudiar si el bajón en rendimiento se debe a que estoy usando 11 años en vez de 8"
   ]
  },
  {
   "cell_type": "code",
   "execution_count": 29,
   "id": "2bf7db25",
   "metadata": {},
   "outputs": [],
   "source": [
    "def concatenarAnnos8(nombre: str):\n",
    "    anno15 = pd.read_csv(\"C:/Users/juanm/Desktop/Asignaturas/Cuarto/TFG/Scrapper/\"+nombre+\"/\"+nombre+\" 2015-01-01_2015-12-30.csv\", index_col=[0], parse_dates=True, dayfirst=True)\n",
    "    anno16 = pd.read_csv(\"C:/Users/juanm/Desktop/Asignaturas/Cuarto/TFG/Scrapper/\"+nombre+\"/\"+nombre+\" 2016-01-01_2016-12-30.csv\", index_col=[0], parse_dates=True, dayfirst=True)\n",
    "    anno17 = pd.read_csv(\"C:/Users/juanm/Desktop/Asignaturas/Cuarto/TFG/Scrapper/\"+nombre+\"/\"+nombre+\" 2017-01-01_2017-12-30.csv\", index_col=[0], parse_dates=True, dayfirst=True)\n",
    "    anno18 = pd.read_csv(\"C:/Users/juanm/Desktop/Asignaturas/Cuarto/TFG/Scrapper/\"+nombre+\"/\"+nombre+\" 2018-01-01_2018-12-30.csv\", index_col=[0], parse_dates=True, dayfirst=True)\n",
    "    anno19 = pd.read_csv(\"C:/Users/juanm/Desktop/Asignaturas/Cuarto/TFG/Scrapper/\"+nombre+\"/\"+nombre+\" 2019-01-01_2019-12-30.csv\", index_col=[0], parse_dates=True, dayfirst=True)\n",
    "    anno20 = pd.read_csv(\"C:/Users/juanm/Desktop/Asignaturas/Cuarto/TFG/Scrapper/\"+nombre+\"/\"+nombre+\" 2020-01-01_2020-12-30.csv\", index_col=[0], parse_dates=True, dayfirst=True)\n",
    "    anno21 = pd.read_csv(\"C:/Users/juanm/Desktop/Asignaturas/Cuarto/TFG/Scrapper/\"+nombre+\"/\"+nombre+\" 2021-01-01_2021-12-30.csv\", index_col=[0], parse_dates=True, dayfirst=True)\n",
    "    anno22 = pd.read_csv(\"C:/Users/juanm/Desktop/Asignaturas/Cuarto/TFG/Scrapper/\"+nombre+\"/\"+nombre+\" 2022-01-01_2022-12-30.csv\", index_col=[0], parse_dates=True, dayfirst=True)\n",
    "\n",
    "    annoDF = pd.concat([anno12, anno13,anno14,anno15,anno16,anno17,anno18,anno19,anno20,anno21,anno22], axis=0)\n",
    "    \n",
    "    annoDF.rename(columns={'Reserva' : nombre},inplace=True)\n",
    "    \n",
    "    return annoDF"
   ]
  },
  {
   "cell_type": "code",
   "execution_count": 30,
   "id": "83c34964",
   "metadata": {},
   "outputs": [],
   "source": [
    "horceDF_8 = concatenarAnnos(\"GUADALHORCE\")\n",
    "tebaDF_8 = concatenarAnnos(\"GUADALTEBA\")\n",
    "condeDF_8 = concatenarAnnos(\"CONDE DE GUADALHORCE\")"
   ]
  },
  {
   "cell_type": "code",
   "execution_count": 33,
   "id": "f930b0ff",
   "metadata": {},
   "outputs": [
    {
     "data": {
      "application/vnd.jupyter.widget-view+json": {
       "model_id": "97344088babd472ea1a57d89e0066383",
       "version_major": 2,
       "version_minor": 0
      },
      "text/plain": [
       "  0%|          | 0/12000 [00:00<?, ?it/s]"
      ]
     },
     "metadata": {},
     "output_type": "display_data"
    },
    {
     "name": "stdout",
     "output_type": "stream",
     "text": [
      "MSE: 1.566949725151062 MAPE: 0.5554348230361938\n"
     ]
    },
    {
     "data": {
      "application/vnd.jupyter.widget-view+json": {
       "model_id": "c877898c982a4d69b18c2de8d9ebf76f",
       "version_major": 2,
       "version_minor": 0
      },
      "text/plain": [
       "  0%|          | 0/12000 [00:00<?, ?it/s]"
      ]
     },
     "metadata": {},
     "output_type": "display_data"
    },
    {
     "name": "stdout",
     "output_type": "stream",
     "text": [
      "MSE: 1.2883950471878052 MAPE: 0.3228927496820688\n"
     ]
    },
    {
     "data": {
      "application/vnd.jupyter.widget-view+json": {
       "model_id": "5a92ea66cca540dfb2ab2b650507199e",
       "version_major": 2,
       "version_minor": 0
      },
      "text/plain": [
       "  0%|          | 0/12000 [00:00<?, ?it/s]"
      ]
     },
     "metadata": {},
     "output_type": "display_data"
    },
    {
     "name": "stdout",
     "output_type": "stream",
     "text": [
      "MSE: 0.9294818043708801 MAPE: 1.348328497260809\n"
     ]
    }
   ],
   "source": [
    "num_epochs = 12000\n",
    "learning_rate = 0.01\n",
    "\n",
    "input_size = 1\n",
    "hidden_size = 4\n",
    "num_layers = 1\n",
    "num_classes = 1 \n",
    "\n",
    "train_percentage = ((7*100)/8)\n",
    "seq_length = 21\n",
    "\n",
    "gru, dataX, dataY, eficiencia = entrenarGRU(horceDF_8, train_percentage, num_epochs, seq_length, learning_rate, input_size, hidden_size, num_layers, num_classes)\n",
    "medirPrecision(gru, dataX, dataY, eficiencia)\n",
    "    \n",
    "\n",
    "gru, dataX, dataY, eficiencia = entrenarGRU(tebaDF_8, train_percentage, num_epochs, seq_length, learning_rate, input_size, hidden_size, num_layers, num_classes)\n",
    "medirPrecision(gru, dataX, dataY, eficiencia)\n",
    "\n",
    "  \n",
    "gru, dataX, dataY, eficiencia = entrenarGRU(condeDF_8, train_percentage, num_epochs, seq_length, learning_rate, input_size, hidden_size, num_layers, num_classes)\n",
    "medirPrecision(gru, dataX, dataY, eficiencia)"
   ]
  },
  {
   "cell_type": "markdown",
   "id": "fba66b9e",
   "metadata": {},
   "source": [
    "El rendimiento es peor en estos pantanos que en el original de la Viñuela. Solo se me ocurre que el ajuste de hiperparámetros realizado provoque que la red esté mucho mejor preparada para el pantano anterior que para estos.\n",
    "Vamos a realizar un rápido ajuste para ver como reacciona el sistema, empezando por los hiperparámetros originales"
   ]
  },
  {
   "cell_type": "code",
   "execution_count": 34,
   "id": "569e8233",
   "metadata": {},
   "outputs": [
    {
     "data": {
      "application/vnd.jupyter.widget-view+json": {
       "model_id": "bef777f953dd4ded917a543ad8b88452",
       "version_major": 2,
       "version_minor": 0
      },
      "text/plain": [
       "  0%|          | 0/15000 [00:00<?, ?it/s]"
      ]
     },
     "metadata": {},
     "output_type": "display_data"
    },
    {
     "name": "stdout",
     "output_type": "stream",
     "text": [
      "MSE: 1.6245737075805664 MAPE: 0.5534323863685131\n"
     ]
    },
    {
     "data": {
      "application/vnd.jupyter.widget-view+json": {
       "model_id": "aa3ad9a5abdd4ca69cbe34a12b95b598",
       "version_major": 2,
       "version_minor": 0
      },
      "text/plain": [
       "  0%|          | 0/15000 [00:00<?, ?it/s]"
      ]
     },
     "metadata": {},
     "output_type": "display_data"
    },
    {
     "name": "stdout",
     "output_type": "stream",
     "text": [
      "MSE: 2.855910062789917 MAPE: 1.0843215510249138\n"
     ]
    },
    {
     "data": {
      "application/vnd.jupyter.widget-view+json": {
       "model_id": "3e819ddc00e74642b5f677c2eac41aee",
       "version_major": 2,
       "version_minor": 0
      },
      "text/plain": [
       "  0%|          | 0/15000 [00:00<?, ?it/s]"
      ]
     },
     "metadata": {},
     "output_type": "display_data"
    },
    {
     "name": "stdout",
     "output_type": "stream",
     "text": [
      "MSE: 1.1264506578445435 MAPE: 1.3951738364994526\n"
     ]
    }
   ],
   "source": [
    "num_epochs = 15000\n",
    "learning_rate = 0.01\n",
    "\n",
    "input_size = 1\n",
    "hidden_size = 2\n",
    "num_layers = 1\n",
    "num_classes = 1 \n",
    "\n",
    "train_percentage = ((7*100)/8)\n",
    "seq_length = 15\n",
    "\n",
    "gru, dataX, dataY, eficiencia = entrenarGRU(horceDF_8, train_percentage, num_epochs, seq_length, learning_rate, input_size, hidden_size, num_layers, num_classes)\n",
    "medirPrecision(gru, dataX, dataY, eficiencia)\n",
    "    \n",
    "\n",
    "gru, dataX, dataY, eficiencia = entrenarGRU(tebaDF_8, train_percentage, num_epochs, seq_length, learning_rate, input_size, hidden_size, num_layers, num_classes)\n",
    "medirPrecision(gru, dataX, dataY, eficiencia)\n",
    "\n",
    "  \n",
    "gru, dataX, dataY, eficiencia = entrenarGRU(condeDF_8, train_percentage, num_epochs, seq_length, learning_rate, input_size, hidden_size, num_layers, num_classes)\n",
    "medirPrecision(gru, dataX, dataY, eficiencia)"
   ]
  },
  {
   "cell_type": "markdown",
   "id": "66b37240",
   "metadata": {},
   "source": [
    "Igual o peor, vamos a cambiar un poco más"
   ]
  },
  {
   "cell_type": "code",
   "execution_count": 35,
   "id": "8a2e7791",
   "metadata": {},
   "outputs": [
    {
     "data": {
      "application/vnd.jupyter.widget-view+json": {
       "model_id": "1dfc53229742431c8bbb0e7fc0261964",
       "version_major": 2,
       "version_minor": 0
      },
      "text/plain": [
       "  0%|          | 0/15000 [00:00<?, ?it/s]"
      ]
     },
     "metadata": {},
     "output_type": "display_data"
    },
    {
     "name": "stdout",
     "output_type": "stream",
     "text": [
      "MSE: 1.5341368913650513 MAPE: 0.5625859368592501\n"
     ]
    },
    {
     "data": {
      "application/vnd.jupyter.widget-view+json": {
       "model_id": "5db8ae079ba54f8399fcea71c5754d38",
       "version_major": 2,
       "version_minor": 0
      },
      "text/plain": [
       "  0%|          | 0/15000 [00:00<?, ?it/s]"
      ]
     },
     "metadata": {},
     "output_type": "display_data"
    },
    {
     "name": "stdout",
     "output_type": "stream",
     "text": [
      "MSE: 1.0832571983337402 MAPE: 0.3394579282030463\n"
     ]
    },
    {
     "data": {
      "application/vnd.jupyter.widget-view+json": {
       "model_id": "857c9de0de414ed39529b872d5cf1e5f",
       "version_major": 2,
       "version_minor": 0
      },
      "text/plain": [
       "  0%|          | 0/15000 [00:00<?, ?it/s]"
      ]
     },
     "metadata": {},
     "output_type": "display_data"
    },
    {
     "name": "stdout",
     "output_type": "stream",
     "text": [
      "MSE: 1.0081658363342285 MAPE: 1.2004767544567585\n"
     ]
    }
   ],
   "source": [
    "num_epochs = 15000\n",
    "learning_rate = 0.01\n",
    "\n",
    "input_size = 1\n",
    "hidden_size = 6\n",
    "num_layers = 1\n",
    "num_classes = 1 \n",
    "\n",
    "train_percentage = ((7*100)/8)\n",
    "seq_length = 15\n",
    "\n",
    "gru, dataX, dataY, eficiencia = entrenarGRU(horceDF_8, train_percentage, num_epochs, seq_length, learning_rate, input_size, hidden_size, num_layers, num_classes)\n",
    "medirPrecision(gru, dataX, dataY, eficiencia)\n",
    "    \n",
    "\n",
    "gru, dataX, dataY, eficiencia = entrenarGRU(tebaDF_8, train_percentage, num_epochs, seq_length, learning_rate, input_size, hidden_size, num_layers, num_classes)\n",
    "medirPrecision(gru, dataX, dataY, eficiencia)\n",
    "\n",
    "  \n",
    "gru, dataX, dataY, eficiencia = entrenarGRU(condeDF_8, train_percentage, num_epochs, seq_length, learning_rate, input_size, hidden_size, num_layers, num_classes)\n",
    "medirPrecision(gru, dataX, dataY, eficiencia)"
   ]
  },
  {
   "cell_type": "code",
   "execution_count": 36,
   "id": "7eebf285",
   "metadata": {},
   "outputs": [
    {
     "data": {
      "application/vnd.jupyter.widget-view+json": {
       "model_id": "61639646472744fb9ff46ee4e291cec9",
       "version_major": 2,
       "version_minor": 0
      },
      "text/plain": [
       "  0%|          | 0/15000 [00:00<?, ?it/s]"
      ]
     },
     "metadata": {},
     "output_type": "display_data"
    },
    {
     "name": "stdout",
     "output_type": "stream",
     "text": [
      "MSE: 1.627400279045105 MAPE: 0.8024438284337521\n"
     ]
    },
    {
     "data": {
      "application/vnd.jupyter.widget-view+json": {
       "model_id": "2cfa3f0f9c8947898c579670eb97c58d",
       "version_major": 2,
       "version_minor": 0
      },
      "text/plain": [
       "  0%|          | 0/15000 [00:00<?, ?it/s]"
      ]
     },
     "metadata": {},
     "output_type": "display_data"
    },
    {
     "name": "stdout",
     "output_type": "stream",
     "text": [
      "MSE: 1.120575189590454 MAPE: 0.33243903890252113\n"
     ]
    },
    {
     "data": {
      "application/vnd.jupyter.widget-view+json": {
       "model_id": "b5b1fcc29b2248e381063144fa719de5",
       "version_major": 2,
       "version_minor": 0
      },
      "text/plain": [
       "  0%|          | 0/15000 [00:00<?, ?it/s]"
      ]
     },
     "metadata": {},
     "output_type": "display_data"
    },
    {
     "name": "stdout",
     "output_type": "stream",
     "text": [
      "MSE: 1.1444281339645386 MAPE: 1.3823037035763264\n"
     ]
    }
   ],
   "source": [
    "num_epochs = 15000\n",
    "learning_rate = 0.01\n",
    "\n",
    "input_size = 1\n",
    "hidden_size = 6\n",
    "num_layers = 1\n",
    "num_classes = 1 \n",
    "\n",
    "train_percentage = ((7*100)/8)\n",
    "seq_length = 21\n",
    "\n",
    "gru, dataX, dataY, eficiencia = entrenarGRU(horceDF_8, train_percentage, num_epochs, seq_length, learning_rate, input_size, hidden_size, num_layers, num_classes)\n",
    "medirPrecision(gru, dataX, dataY, eficiencia)\n",
    "    \n",
    "\n",
    "gru, dataX, dataY, eficiencia = entrenarGRU(tebaDF_8, train_percentage, num_epochs, seq_length, learning_rate, input_size, hidden_size, num_layers, num_classes)\n",
    "medirPrecision(gru, dataX, dataY, eficiencia)\n",
    "\n",
    "  \n",
    "gru, dataX, dataY, eficiencia = entrenarGRU(condeDF_8, train_percentage, num_epochs, seq_length, learning_rate, input_size, hidden_size, num_layers, num_classes)\n",
    "medirPrecision(gru, dataX, dataY, eficiencia)"
   ]
  },
  {
   "cell_type": "code",
   "execution_count": 37,
   "id": "caaa2690",
   "metadata": {},
   "outputs": [
    {
     "data": {
      "application/vnd.jupyter.widget-view+json": {
       "model_id": "bd6dfa9696e44c4ea759c53bd2e13e40",
       "version_major": 2,
       "version_minor": 0
      },
      "text/plain": [
       "  0%|          | 0/15000 [00:00<?, ?it/s]"
      ]
     },
     "metadata": {},
     "output_type": "display_data"
    },
    {
     "name": "stdout",
     "output_type": "stream",
     "text": [
      "MSE: 4.692038536071777 MAPE: 1.785193383693695\n"
     ]
    },
    {
     "data": {
      "application/vnd.jupyter.widget-view+json": {
       "model_id": "6bd971552e7d498584fb512ad5da98ba",
       "version_major": 2,
       "version_minor": 0
      },
      "text/plain": [
       "  0%|          | 0/15000 [00:00<?, ?it/s]"
      ]
     },
     "metadata": {},
     "output_type": "display_data"
    },
    {
     "name": "stdout",
     "output_type": "stream",
     "text": [
      "MSE: 1.2804574966430664 MAPE: 0.32577968668192625\n"
     ]
    },
    {
     "data": {
      "application/vnd.jupyter.widget-view+json": {
       "model_id": "9123957b8efa40f2a1d22ea74b440ac9",
       "version_major": 2,
       "version_minor": 0
      },
      "text/plain": [
       "  0%|          | 0/15000 [00:00<?, ?it/s]"
      ]
     },
     "metadata": {},
     "output_type": "display_data"
    },
    {
     "name": "stdout",
     "output_type": "stream",
     "text": [
      "MSE: 0.9666728377342224 MAPE: 1.2362691573798656\n"
     ]
    }
   ],
   "source": [
    "num_epochs = 15000\n",
    "learning_rate = 0.01\n",
    "\n",
    "input_size = 1\n",
    "hidden_size = 6\n",
    "num_layers = 1\n",
    "num_classes = 1 \n",
    "\n",
    "train_percentage = ((7*100)/8)\n",
    "seq_length = 28\n",
    "\n",
    "gru, dataX, dataY, eficiencia = entrenarGRU(horceDF_8, train_percentage, num_epochs, seq_length, learning_rate, input_size, hidden_size, num_layers, num_classes)\n",
    "medirPrecision(gru, dataX, dataY, eficiencia)\n",
    "    \n",
    "\n",
    "gru, dataX, dataY, eficiencia = entrenarGRU(tebaDF_8, train_percentage, num_epochs, seq_length, learning_rate, input_size, hidden_size, num_layers, num_classes)\n",
    "medirPrecision(gru, dataX, dataY, eficiencia)\n",
    "\n",
    "  \n",
    "gru, dataX, dataY, eficiencia = entrenarGRU(condeDF_8, train_percentage, num_epochs, seq_length, learning_rate, input_size, hidden_size, num_layers, num_classes)\n",
    "medirPrecision(gru, dataX, dataY, eficiencia)"
   ]
  },
  {
   "cell_type": "code",
   "execution_count": 38,
   "id": "0000f66d",
   "metadata": {},
   "outputs": [
    {
     "data": {
      "application/vnd.jupyter.widget-view+json": {
       "model_id": "88214508e08446268deee4b9d4cb8f6e",
       "version_major": 2,
       "version_minor": 0
      },
      "text/plain": [
       "  0%|          | 0/15000 [00:00<?, ?it/s]"
      ]
     },
     "metadata": {},
     "output_type": "display_data"
    },
    {
     "name": "stdout",
     "output_type": "stream",
     "text": [
      "MSE: 1.426770806312561 MAPE: 0.542155047878623\n"
     ]
    },
    {
     "data": {
      "application/vnd.jupyter.widget-view+json": {
       "model_id": "666ba6b4453b483a90d726620b80c201",
       "version_major": 2,
       "version_minor": 0
      },
      "text/plain": [
       "  0%|          | 0/15000 [00:00<?, ?it/s]"
      ]
     },
     "metadata": {},
     "output_type": "display_data"
    },
    {
     "name": "stdout",
     "output_type": "stream",
     "text": [
      "MSE: 1.0514280796051025 MAPE: 0.29651059303432703\n"
     ]
    },
    {
     "data": {
      "application/vnd.jupyter.widget-view+json": {
       "model_id": "ad3cae77a2d24bdfaa083c0d323757b4",
       "version_major": 2,
       "version_minor": 0
      },
      "text/plain": [
       "  0%|          | 0/15000 [00:00<?, ?it/s]"
      ]
     },
     "metadata": {},
     "output_type": "display_data"
    },
    {
     "name": "stdout",
     "output_type": "stream",
     "text": [
      "MSE: 0.8541494011878967 MAPE: 1.1784697882831097\n"
     ]
    }
   ],
   "source": [
    "num_epochs = 15000\n",
    "learning_rate = 0.01\n",
    "\n",
    "input_size = 1\n",
    "hidden_size = 6\n",
    "num_layers = 1\n",
    "num_classes = 1 \n",
    "\n",
    "train_percentage = ((7*100)/8)\n",
    "seq_length = 7\n",
    "\n",
    "gru, dataX, dataY, eficiencia = entrenarGRU(horceDF_8, train_percentage, num_epochs, seq_length, learning_rate, input_size, hidden_size, num_layers, num_classes)\n",
    "medirPrecision(gru, dataX, dataY, eficiencia)\n",
    "    \n",
    "\n",
    "gru, dataX, dataY, eficiencia = entrenarGRU(tebaDF_8, train_percentage, num_epochs, seq_length, learning_rate, input_size, hidden_size, num_layers, num_classes)\n",
    "medirPrecision(gru, dataX, dataY, eficiencia)\n",
    "\n",
    "  \n",
    "gru, dataX, dataY, eficiencia = entrenarGRU(condeDF_8, train_percentage, num_epochs, seq_length, learning_rate, input_size, hidden_size, num_layers, num_classes)\n",
    "medirPrecision(gru, dataX, dataY, eficiencia)"
   ]
  },
  {
   "cell_type": "code",
   "execution_count": 39,
   "id": "09b04382",
   "metadata": {},
   "outputs": [
    {
     "data": {
      "application/vnd.jupyter.widget-view+json": {
       "model_id": "e35b3bc07bc9458fb2249165bc5265dd",
       "version_major": 2,
       "version_minor": 0
      },
      "text/plain": [
       "  0%|          | 0/12000 [00:00<?, ?it/s]"
      ]
     },
     "metadata": {},
     "output_type": "display_data"
    },
    {
     "name": "stdout",
     "output_type": "stream",
     "text": [
      "MSE: 1.6900545358657837 MAPE: 0.6793402601033449\n"
     ]
    },
    {
     "data": {
      "application/vnd.jupyter.widget-view+json": {
       "model_id": "5bb8a164da244897bb6736b5a2630ef0",
       "version_major": 2,
       "version_minor": 0
      },
      "text/plain": [
       "  0%|          | 0/12000 [00:00<?, ?it/s]"
      ]
     },
     "metadata": {},
     "output_type": "display_data"
    },
    {
     "name": "stdout",
     "output_type": "stream",
     "text": [
      "MSE: 1.5456774234771729 MAPE: 0.6286526564508677\n"
     ]
    },
    {
     "data": {
      "application/vnd.jupyter.widget-view+json": {
       "model_id": "9e5302122fc94ae3a87efbcb35a4fe7c",
       "version_major": 2,
       "version_minor": 0
      },
      "text/plain": [
       "  0%|          | 0/12000 [00:00<?, ?it/s]"
      ]
     },
     "metadata": {},
     "output_type": "display_data"
    },
    {
     "name": "stdout",
     "output_type": "stream",
     "text": [
      "MSE: 1.2630709409713745 MAPE: 2.1210478618741035\n"
     ]
    }
   ],
   "source": [
    "num_epochs = 12000\n",
    "learning_rate = 0.01\n",
    "\n",
    "input_size = 1\n",
    "hidden_size = 6\n",
    "num_layers = 1\n",
    "num_classes = 1 \n",
    "\n",
    "train_percentage = ((7*100)/8)\n",
    "seq_length = 7\n",
    "\n",
    "gru, dataX, dataY, eficiencia = entrenarGRU(horceDF_8, train_percentage, num_epochs, seq_length, learning_rate, input_size, hidden_size, num_layers, num_classes)\n",
    "medirPrecision(gru, dataX, dataY, eficiencia)\n",
    "    \n",
    "\n",
    "gru, dataX, dataY, eficiencia = entrenarGRU(tebaDF_8, train_percentage, num_epochs, seq_length, learning_rate, input_size, hidden_size, num_layers, num_classes)\n",
    "medirPrecision(gru, dataX, dataY, eficiencia)\n",
    "\n",
    "  \n",
    "gru, dataX, dataY, eficiencia = entrenarGRU(condeDF_8, train_percentage, num_epochs, seq_length, learning_rate, input_size, hidden_size, num_layers, num_classes)\n",
    "medirPrecision(gru, dataX, dataY, eficiencia)"
   ]
  },
  {
   "cell_type": "code",
   "execution_count": 40,
   "id": "b860a99b",
   "metadata": {},
   "outputs": [
    {
     "data": {
      "application/vnd.jupyter.widget-view+json": {
       "model_id": "cb418a6168504cf8b49add0540e905ff",
       "version_major": 2,
       "version_minor": 0
      },
      "text/plain": [
       "  0%|          | 0/15000 [00:00<?, ?it/s]"
      ]
     },
     "metadata": {},
     "output_type": "display_data"
    },
    {
     "name": "stdout",
     "output_type": "stream",
     "text": [
      "MSE: 1.5843307971954346 MAPE: 0.5629603751003742\n"
     ]
    },
    {
     "data": {
      "application/vnd.jupyter.widget-view+json": {
       "model_id": "6802a99454384439aebe78d86ec49c69",
       "version_major": 2,
       "version_minor": 0
      },
      "text/plain": [
       "  0%|          | 0/15000 [00:00<?, ?it/s]"
      ]
     },
     "metadata": {},
     "output_type": "display_data"
    },
    {
     "name": "stdout",
     "output_type": "stream",
     "text": [
      "MSE: 1.6523244380950928 MAPE: 0.32969440799206495\n"
     ]
    },
    {
     "data": {
      "application/vnd.jupyter.widget-view+json": {
       "model_id": "9767202a78034d84974ca1f561bca634",
       "version_major": 2,
       "version_minor": 0
      },
      "text/plain": [
       "  0%|          | 0/15000 [00:00<?, ?it/s]"
      ]
     },
     "metadata": {},
     "output_type": "display_data"
    },
    {
     "name": "stdout",
     "output_type": "stream",
     "text": [
      "MSE: 1.0089560747146606 MAPE: 1.3367360457777977\n"
     ]
    }
   ],
   "source": [
    "num_epochs = 15000\n",
    "learning_rate = 0.01\n",
    "\n",
    "input_size = 1\n",
    "hidden_size = 6\n",
    "num_layers = 1\n",
    "num_classes = 1 \n",
    "\n",
    "train_percentage = ((7*100)/8)\n",
    "seq_length = 7\n",
    "\n",
    "gru, dataX, dataY, eficiencia = entrenarGRU(horceDF_8, train_percentage, num_epochs, seq_length, learning_rate, input_size, hidden_size, num_layers, num_classes)\n",
    "medirPrecision(gru, dataX, dataY, eficiencia)\n",
    "    \n",
    "\n",
    "gru, dataX, dataY, eficiencia = entrenarGRU(tebaDF_8, train_percentage, num_epochs, seq_length, learning_rate, input_size, hidden_size, num_layers, num_classes)\n",
    "medirPrecision(gru, dataX, dataY, eficiencia)\n",
    "\n",
    "  \n",
    "gru, dataX, dataY, eficiencia = entrenarGRU(condeDF_8, train_percentage, num_epochs, seq_length, learning_rate, input_size, hidden_size, num_layers, num_classes)\n",
    "medirPrecision(gru, dataX, dataY, eficiencia)"
   ]
  },
  {
   "cell_type": "code",
   "execution_count": 41,
   "id": "9560fdcc",
   "metadata": {},
   "outputs": [
    {
     "data": {
      "application/vnd.jupyter.widget-view+json": {
       "model_id": "37d99db29da1461dae069717fbf9d38f",
       "version_major": 2,
       "version_minor": 0
      },
      "text/plain": [
       "  0%|          | 0/15000 [00:00<?, ?it/s]"
      ]
     },
     "metadata": {},
     "output_type": "display_data"
    },
    {
     "name": "stdout",
     "output_type": "stream",
     "text": [
      "MSE: 1.5668220520019531 MAPE: 0.5537397228181362\n"
     ]
    },
    {
     "data": {
      "application/vnd.jupyter.widget-view+json": {
       "model_id": "6dc2a99dde02433e91fda77683f0b081",
       "version_major": 2,
       "version_minor": 0
      },
      "text/plain": [
       "  0%|          | 0/15000 [00:00<?, ?it/s]"
      ]
     },
     "metadata": {},
     "output_type": "display_data"
    },
    {
     "name": "stdout",
     "output_type": "stream",
     "text": [
      "MSE: 1.259630560874939 MAPE: 0.5679512396454811\n"
     ]
    },
    {
     "data": {
      "application/vnd.jupyter.widget-view+json": {
       "model_id": "99062c84e98e4859a88df2a25a4f3660",
       "version_major": 2,
       "version_minor": 0
      },
      "text/plain": [
       "  0%|          | 0/15000 [00:00<?, ?it/s]"
      ]
     },
     "metadata": {},
     "output_type": "display_data"
    },
    {
     "name": "stdout",
     "output_type": "stream",
     "text": [
      "MSE: 1.0135623216629028 MAPE: 1.2938201427459717\n"
     ]
    }
   ],
   "source": [
    "num_epochs = 15000\n",
    "learning_rate = 0.01\n",
    "\n",
    "input_size = 1\n",
    "hidden_size = 3\n",
    "num_layers = 1\n",
    "num_classes = 1 \n",
    "\n",
    "train_percentage = ((7*100)/8)\n",
    "seq_length = 7\n",
    "\n",
    "gru, dataX, dataY, eficiencia = entrenarGRU(horceDF_8, train_percentage, num_epochs, seq_length, learning_rate, input_size, hidden_size, num_layers, num_classes)\n",
    "medirPrecision(gru, dataX, dataY, eficiencia)\n",
    "    \n",
    "\n",
    "gru, dataX, dataY, eficiencia = entrenarGRU(tebaDF_8, train_percentage, num_epochs, seq_length, learning_rate, input_size, hidden_size, num_layers, num_classes)\n",
    "medirPrecision(gru, dataX, dataY, eficiencia)\n",
    "\n",
    "  \n",
    "gru, dataX, dataY, eficiencia = entrenarGRU(condeDF_8, train_percentage, num_epochs, seq_length, learning_rate, input_size, hidden_size, num_layers, num_classes)\n",
    "medirPrecision(gru, dataX, dataY, eficiencia)"
   ]
  },
  {
   "cell_type": "code",
   "execution_count": 42,
   "id": "03c1e954",
   "metadata": {},
   "outputs": [
    {
     "data": {
      "application/vnd.jupyter.widget-view+json": {
       "model_id": "0b1becd796784c078e29ba7ee180a39c",
       "version_major": 2,
       "version_minor": 0
      },
      "text/plain": [
       "  0%|          | 0/15000 [00:00<?, ?it/s]"
      ]
     },
     "metadata": {},
     "output_type": "display_data"
    },
    {
     "name": "stdout",
     "output_type": "stream",
     "text": [
      "MSE: 1.4678313732147217 MAPE: 0.534782512113452\n"
     ]
    },
    {
     "data": {
      "application/vnd.jupyter.widget-view+json": {
       "model_id": "118b046855c44784b890c05f60d48cd6",
       "version_major": 2,
       "version_minor": 0
      },
      "text/plain": [
       "  0%|          | 0/15000 [00:00<?, ?it/s]"
      ]
     },
     "metadata": {},
     "output_type": "display_data"
    },
    {
     "name": "stdout",
     "output_type": "stream",
     "text": [
      "MSE: 1.9098577499389648 MAPE: 0.5252114497125149\n"
     ]
    },
    {
     "data": {
      "application/vnd.jupyter.widget-view+json": {
       "model_id": "915f43b77d7449679c4a57dd672ef852",
       "version_major": 2,
       "version_minor": 0
      },
      "text/plain": [
       "  0%|          | 0/15000 [00:00<?, ?it/s]"
      ]
     },
     "metadata": {},
     "output_type": "display_data"
    },
    {
     "name": "stdout",
     "output_type": "stream",
     "text": [
      "MSE: 0.7994914650917053 MAPE: 0.89670205488801\n"
     ]
    }
   ],
   "source": [
    "num_epochs = 15000\n",
    "learning_rate = 0.01\n",
    "\n",
    "input_size = 1\n",
    "hidden_size = 8\n",
    "num_layers = 1\n",
    "num_classes = 1 \n",
    "\n",
    "train_percentage = ((7*100)/8)\n",
    "seq_length = 7\n",
    "\n",
    "gru, dataX, dataY, eficiencia = entrenarGRU(horceDF_8, train_percentage, num_epochs, seq_length, learning_rate, input_size, hidden_size, num_layers, num_classes)\n",
    "medirPrecision(gru, dataX, dataY, eficiencia)\n",
    "    \n",
    "\n",
    "gru, dataX, dataY, eficiencia = entrenarGRU(tebaDF_8, train_percentage, num_epochs, seq_length, learning_rate, input_size, hidden_size, num_layers, num_classes)\n",
    "medirPrecision(gru, dataX, dataY, eficiencia)\n",
    "\n",
    "  \n",
    "gru, dataX, dataY, eficiencia = entrenarGRU(condeDF_8, train_percentage, num_epochs, seq_length, learning_rate, input_size, hidden_size, num_layers, num_classes)\n",
    "medirPrecision(gru, dataX, dataY, eficiencia)"
   ]
  },
  {
   "cell_type": "markdown",
   "id": "a4a96101",
   "metadata": {},
   "source": [
    "Este último es el que mejor balance ha tenido entre los 3, pero sigue siendo bastante malo en comparación.\n",
    "Voy a encontrar la correlación entre ellos."
   ]
  },
  {
   "cell_type": "code",
   "execution_count": 47,
   "id": "515c9c02",
   "metadata": {},
   "outputs": [
    {
     "name": "stdout",
     "output_type": "stream",
     "text": [
      "Correlación Pearson:  0.7264441429660471\n",
      "Correlación spearman:  0.6908148050401609\n",
      "Correlación kendall:  0.733783904342932\n"
     ]
    }
   ],
   "source": [
    "print('Correlación Pearson: ', horceDF_8['GUADALHORCE'].corr(tebaDF_8['GUADALTEBA'], method='pearson'))\n",
    "print('Correlación spearman: ', horceDF_8['GUADALHORCE'].corr(condeDF_8['CONDE DE GUADALHORCE'], method='pearson'))\n",
    "print('Correlación kendall: ', tebaDF_8['GUADALTEBA'].corr(condeDF_8['CONDE DE GUADALHORCE'], method='pearson'))"
   ]
  },
  {
   "cell_type": "markdown",
   "id": "3add7d02",
   "metadata": {},
   "source": [
    "Tienen una correlación relativamente elevada, y aún así no hay manera de que en una sola red se predigan todos bien, va a haber que usar una por pantano.\n",
    "Por último voy a ver si LSTM funciona mejor"
   ]
  },
  {
   "cell_type": "code",
   "execution_count": 48,
   "id": "bffe7d4d",
   "metadata": {},
   "outputs": [
    {
     "data": {
      "application/vnd.jupyter.widget-view+json": {
       "model_id": "6e2b4304e4684c66a31c784f759a03e2",
       "version_major": 2,
       "version_minor": 0
      },
      "text/plain": [
       "  0%|          | 0/9000 [00:00<?, ?it/s]"
      ]
     },
     "metadata": {},
     "output_type": "display_data"
    },
    {
     "name": "stdout",
     "output_type": "stream",
     "text": [
      "MSE: 1.566019892692566 MAPE: 0.5622955970466137\n"
     ]
    },
    {
     "data": {
      "application/vnd.jupyter.widget-view+json": {
       "model_id": "4774ac7bf38546e59cd77ae866f8bd6a",
       "version_major": 2,
       "version_minor": 0
      },
      "text/plain": [
       "  0%|          | 0/9000 [00:00<?, ?it/s]"
      ]
     },
     "metadata": {},
     "output_type": "display_data"
    },
    {
     "name": "stdout",
     "output_type": "stream",
     "text": [
      "MSE: 1.4850826263427734 MAPE: 0.37026461213827133\n"
     ]
    },
    {
     "data": {
      "application/vnd.jupyter.widget-view+json": {
       "model_id": "0a9061c35fd04aa3a7d82e83e4196493",
       "version_major": 2,
       "version_minor": 0
      },
      "text/plain": [
       "  0%|          | 0/9000 [00:00<?, ?it/s]"
      ]
     },
     "metadata": {},
     "output_type": "display_data"
    },
    {
     "name": "stdout",
     "output_type": "stream",
     "text": [
      "MSE: 1.5086843967437744 MAPE: 2.602832578122616\n"
     ]
    }
   ],
   "source": [
    "num_epochs = 9000\n",
    "learning_rate = 0.01\n",
    "\n",
    "input_size = 1\n",
    "hidden_size = 6\n",
    "num_layers = 1\n",
    "num_classes = 1 \n",
    "\n",
    "train_percentage = ((7*100)/8)\n",
    "seq_length = 28\n",
    "\n",
    "lstm, dataX, dataY, eficiencia = entrenarLSTM(horceDF_8, train_percentage, num_epochs, seq_length, learning_rate, input_size, hidden_size, num_layers, num_classes)\n",
    "medirPrecision(lstm, dataX, dataY, eficiencia)\n",
    "    \n",
    "\n",
    "lstm, dataX, dataY, eficiencia = entrenarLSTM(tebaDF_8, train_percentage, num_epochs, seq_length, learning_rate, input_size, hidden_size, num_layers, num_classes)\n",
    "medirPrecision(lstm, dataX, dataY, eficiencia)\n",
    "\n",
    "  \n",
    "lstm, dataX, dataY, eficiencia = entrenarLSTM(condeDF_8, train_percentage, num_epochs, seq_length, learning_rate, input_size, hidden_size, num_layers, num_classes)\n",
    "medirPrecision(lstm, dataX, dataY, eficiencia)"
   ]
  },
  {
   "cell_type": "markdown",
   "id": "02b546d7",
   "metadata": {},
   "source": [
    "Lo mismo (un poquito mejor tbh)."
   ]
  },
  {
   "cell_type": "markdown",
   "id": "a11cbbc1",
   "metadata": {},
   "source": [
    "# Datos Meteorológicos"
   ]
  },
  {
   "cell_type": "markdown",
   "id": "a3d11ecd",
   "metadata": {},
   "source": [
    "Ya que hemos llegado a la conclusión de que los datos de pantanos cercanos no nos sirven para nada, vamos a comprobar con los datos meteorológicos. (Aunque obtenerlos y formatearlos haya sido una tortura)"
   ]
  },
  {
   "cell_type": "code",
   "execution_count": 12,
   "id": "4ef427a6",
   "metadata": {},
   "outputs": [],
   "source": [
    "asignaciones = json.loads(open(\"C:/Users/juanm/Desktop/Asignaturas/Cuarto/TFG/Scrapper/asignaciones.json\", \"r\", encoding='utf8').read())"
   ]
  },
  {
   "cell_type": "code",
   "execution_count": 13,
   "id": "d09abc12",
   "metadata": {},
   "outputs": [
    {
     "name": "stdout",
     "output_type": "stream",
     "text": [
      "ANTEQUERA\n"
     ]
    }
   ],
   "source": [
    "print(asignaciones.get(\"GUADALHORCE\"))"
   ]
  },
  {
   "cell_type": "markdown",
   "id": "5fe901d7",
   "metadata": {},
   "source": [
    "Esa es la estación meteorológica correspondiente"
   ]
  },
  {
   "cell_type": "code",
   "execution_count": 11,
   "id": "834d3c5a",
   "metadata": {},
   "outputs": [],
   "source": [
    "estacion = asignaciones.get(\"GUADALHORCE\")\n",
    "df = pd.read_json(\"C:/Users/juanm/Desktop/Asignaturas/Cuarto/TFG/Scrapper/AEMET/\" + estacion + \"/\" + estacion +\" 2012-01-01_2012-12-30.json\", convert_dates=True)\n",
    "df.set_index('fecha',inplace=True)"
   ]
  },
  {
   "cell_type": "code",
   "execution_count": 12,
   "id": "ba1787b9",
   "metadata": {
    "scrolled": true
   },
   "outputs": [
    {
     "data": {
      "text/html": [
       "<div>\n",
       "<style scoped>\n",
       "    .dataframe tbody tr th:only-of-type {\n",
       "        vertical-align: middle;\n",
       "    }\n",
       "\n",
       "    .dataframe tbody tr th {\n",
       "        vertical-align: top;\n",
       "    }\n",
       "\n",
       "    .dataframe thead th {\n",
       "        text-align: right;\n",
       "    }\n",
       "</style>\n",
       "<table border=\"1\" class=\"dataframe\">\n",
       "  <thead>\n",
       "    <tr style=\"text-align: right;\">\n",
       "      <th></th>\n",
       "      <th>indicativo</th>\n",
       "      <th>nombre</th>\n",
       "      <th>provincia</th>\n",
       "      <th>altitud</th>\n",
       "      <th>tmed</th>\n",
       "      <th>prec</th>\n",
       "      <th>tmin</th>\n",
       "      <th>horatmin</th>\n",
       "      <th>tmax</th>\n",
       "      <th>horatmax</th>\n",
       "      <th>dir</th>\n",
       "      <th>velmedia</th>\n",
       "      <th>racha</th>\n",
       "      <th>horaracha</th>\n",
       "      <th>presMax</th>\n",
       "      <th>horaPresMax</th>\n",
       "      <th>presMin</th>\n",
       "      <th>horaPresMin</th>\n",
       "    </tr>\n",
       "    <tr>\n",
       "      <th>fecha</th>\n",
       "      <th></th>\n",
       "      <th></th>\n",
       "      <th></th>\n",
       "      <th></th>\n",
       "      <th></th>\n",
       "      <th></th>\n",
       "      <th></th>\n",
       "      <th></th>\n",
       "      <th></th>\n",
       "      <th></th>\n",
       "      <th></th>\n",
       "      <th></th>\n",
       "      <th></th>\n",
       "      <th></th>\n",
       "      <th></th>\n",
       "      <th></th>\n",
       "      <th></th>\n",
       "      <th></th>\n",
       "    </tr>\n",
       "  </thead>\n",
       "  <tbody>\n",
       "    <tr>\n",
       "      <th>2012-01-01</th>\n",
       "      <td>6106X</td>\n",
       "      <td>ANTEQUERA</td>\n",
       "      <td>MALAGA</td>\n",
       "      <td>408</td>\n",
       "      <td>8,4</td>\n",
       "      <td>0,0</td>\n",
       "      <td>-0,1</td>\n",
       "      <td>06:50</td>\n",
       "      <td>16,9</td>\n",
       "      <td>14:00</td>\n",
       "      <td>32.0</td>\n",
       "      <td>0,6</td>\n",
       "      <td>4,7</td>\n",
       "      <td>14:20</td>\n",
       "      <td>981,6</td>\n",
       "      <td>24</td>\n",
       "      <td>978,3</td>\n",
       "      <td>15</td>\n",
       "    </tr>\n",
       "    <tr>\n",
       "      <th>2012-01-02</th>\n",
       "      <td>6106X</td>\n",
       "      <td>ANTEQUERA</td>\n",
       "      <td>MALAGA</td>\n",
       "      <td>408</td>\n",
       "      <td>9,5</td>\n",
       "      <td>0,0</td>\n",
       "      <td>5,1</td>\n",
       "      <td>00:10</td>\n",
       "      <td>13,9</td>\n",
       "      <td>15:40</td>\n",
       "      <td>29.0</td>\n",
       "      <td>2,2</td>\n",
       "      <td>7,2</td>\n",
       "      <td>12:40</td>\n",
       "      <td>985,1</td>\n",
       "      <td>23</td>\n",
       "      <td>981,1</td>\n",
       "      <td>01</td>\n",
       "    </tr>\n",
       "    <tr>\n",
       "      <th>2012-01-03</th>\n",
       "      <td>6106X</td>\n",
       "      <td>ANTEQUERA</td>\n",
       "      <td>MALAGA</td>\n",
       "      <td>408</td>\n",
       "      <td>7,6</td>\n",
       "      <td>0,0</td>\n",
       "      <td>-1,3</td>\n",
       "      <td>07:50</td>\n",
       "      <td>16,4</td>\n",
       "      <td>14:50</td>\n",
       "      <td>99.0</td>\n",
       "      <td>1,4</td>\n",
       "      <td>5,0</td>\n",
       "      <td>17:50</td>\n",
       "      <td>985,3</td>\n",
       "      <td>11</td>\n",
       "      <td>982,0</td>\n",
       "      <td>15</td>\n",
       "    </tr>\n",
       "    <tr>\n",
       "      <th>2012-01-04</th>\n",
       "      <td>6106X</td>\n",
       "      <td>ANTEQUERA</td>\n",
       "      <td>MALAGA</td>\n",
       "      <td>408</td>\n",
       "      <td>9,0</td>\n",
       "      <td>0,0</td>\n",
       "      <td>-0,7</td>\n",
       "      <td>07:50</td>\n",
       "      <td>18,6</td>\n",
       "      <td>15:20</td>\n",
       "      <td>34.0</td>\n",
       "      <td>0,6</td>\n",
       "      <td>5,6</td>\n",
       "      <td>17:40</td>\n",
       "      <td>985,5</td>\n",
       "      <td>10</td>\n",
       "      <td>981,6</td>\n",
       "      <td>17</td>\n",
       "    </tr>\n",
       "    <tr>\n",
       "      <th>2012-01-05</th>\n",
       "      <td>6106X</td>\n",
       "      <td>ANTEQUERA</td>\n",
       "      <td>MALAGA</td>\n",
       "      <td>408</td>\n",
       "      <td>9,2</td>\n",
       "      <td>0,0</td>\n",
       "      <td>-1,0</td>\n",
       "      <td>05:00</td>\n",
       "      <td>19,4</td>\n",
       "      <td>14:40</td>\n",
       "      <td>33.0</td>\n",
       "      <td>0,6</td>\n",
       "      <td>3,9</td>\n",
       "      <td>14:00</td>\n",
       "      <td>984,1</td>\n",
       "      <td>10</td>\n",
       "      <td>980,2</td>\n",
       "      <td>16</td>\n",
       "    </tr>\n",
       "  </tbody>\n",
       "</table>\n",
       "</div>"
      ],
      "text/plain": [
       "           indicativo     nombre provincia  altitud tmed prec  tmin horatmin  \\\n",
       "fecha                                                                          \n",
       "2012-01-01      6106X  ANTEQUERA    MALAGA      408  8,4  0,0  -0,1    06:50   \n",
       "2012-01-02      6106X  ANTEQUERA    MALAGA      408  9,5  0,0   5,1    00:10   \n",
       "2012-01-03      6106X  ANTEQUERA    MALAGA      408  7,6  0,0  -1,3    07:50   \n",
       "2012-01-04      6106X  ANTEQUERA    MALAGA      408  9,0  0,0  -0,7    07:50   \n",
       "2012-01-05      6106X  ANTEQUERA    MALAGA      408  9,2  0,0  -1,0    05:00   \n",
       "\n",
       "            tmax horatmax   dir velmedia racha horaracha presMax horaPresMax  \\\n",
       "fecha                                                                          \n",
       "2012-01-01  16,9    14:00  32.0      0,6   4,7     14:20   981,6          24   \n",
       "2012-01-02  13,9    15:40  29.0      2,2   7,2     12:40   985,1          23   \n",
       "2012-01-03  16,4    14:50  99.0      1,4   5,0     17:50   985,3          11   \n",
       "2012-01-04  18,6    15:20  34.0      0,6   5,6     17:40   985,5          10   \n",
       "2012-01-05  19,4    14:40  33.0      0,6   3,9     14:00   984,1          10   \n",
       "\n",
       "           presMin horaPresMin  \n",
       "fecha                           \n",
       "2012-01-01   978,3          15  \n",
       "2012-01-02   981,1          01  \n",
       "2012-01-03   982,0          15  \n",
       "2012-01-04   981,6          17  \n",
       "2012-01-05   980,2          16  "
      ]
     },
     "execution_count": 12,
     "metadata": {},
     "output_type": "execute_result"
    }
   ],
   "source": [
    "df.head()"
   ]
  },
  {
   "cell_type": "markdown",
   "id": "9f87a019",
   "metadata": {},
   "source": [
    "Muy bien, ahora a conseguir los diferentes años a la vez"
   ]
  },
  {
   "cell_type": "code",
   "execution_count": 14,
   "id": "cb1d433b",
   "metadata": {},
   "outputs": [],
   "source": [
    "def concatenarEstaciones11(estacion:str):\n",
    "    \n",
    "    \n",
    "    anno12 = pd.read_json(\"C:/Users/juanm/Desktop/Asignaturas/Cuarto/TFG/Scrapper/AEMET/\" + estacion + \"/\" + estacion +\" 2012-01-01_2012-12-30.json\", convert_dates=True)\n",
    "    anno12['fecha'] = pd.to_datetime(anno12['fecha'], utc = False)\n",
    "    anno12.set_index('fecha',inplace=True)\n",
    "    anno13 = pd.read_json(\"C:/Users/juanm/Desktop/Asignaturas/Cuarto/TFG/Scrapper/AEMET/\" + estacion + \"/\" + estacion +\" 2013-01-01_2013-12-30.json\", convert_dates=True)\n",
    "    anno13['fecha'] = pd.to_datetime(anno13['fecha'], utc = False)\n",
    "    anno13.set_index('fecha',inplace=True)\n",
    "    anno14 = pd.read_json(\"C:/Users/juanm/Desktop/Asignaturas/Cuarto/TFG/Scrapper/AEMET/\" + estacion + \"/\" + estacion +\" 2014-01-01_2014-12-30.json\", convert_dates=True)\n",
    "    anno14['fecha'] = pd.to_datetime(anno14['fecha'], utc = False)\n",
    "    anno14.set_index('fecha',inplace=True)\n",
    "    anno15 = pd.read_json(\"C:/Users/juanm/Desktop/Asignaturas/Cuarto/TFG/Scrapper/AEMET/\" + estacion + \"/\" + estacion +\" 2015-01-01_2015-12-30.json\", convert_dates=True)\n",
    "    anno15['fecha'] = pd.to_datetime(anno15['fecha'], utc = False)\n",
    "    anno15.set_index('fecha',inplace=True)\n",
    "    anno16 = pd.read_json(\"C:/Users/juanm/Desktop/Asignaturas/Cuarto/TFG/Scrapper/AEMET/\" + estacion + \"/\" + estacion +\" 2016-01-01_2016-12-30.json\", convert_dates=True)\n",
    "    anno16['fecha'] = pd.to_datetime(anno16['fecha'], utc = False)\n",
    "    anno16.set_index('fecha',inplace=True)\n",
    "    anno17 = pd.read_json(\"C:/Users/juanm/Desktop/Asignaturas/Cuarto/TFG/Scrapper/AEMET/\" + estacion + \"/\" + estacion +\" 2017-01-01_2017-12-30.json\", convert_dates=True)\n",
    "    anno17['fecha'] = pd.to_datetime(anno17['fecha'], utc = False)\n",
    "    anno17.set_index('fecha',inplace=True)\n",
    "    anno18 = pd.read_json(\"C:/Users/juanm/Desktop/Asignaturas/Cuarto/TFG/Scrapper/AEMET/\" + estacion + \"/\" + estacion +\" 2018-01-01_2018-12-30.json\", convert_dates=True)\n",
    "    anno18['fecha'] = pd.to_datetime(anno18['fecha'], utc = False)\n",
    "    anno18.set_index('fecha',inplace=True)\n",
    "    anno19 = pd.read_json(\"C:/Users/juanm/Desktop/Asignaturas/Cuarto/TFG/Scrapper/AEMET/\" + estacion + \"/\" + estacion +\" 2019-01-01_2019-12-30.json\", convert_dates=True)\n",
    "    anno19['fecha'] = pd.to_datetime(anno19['fecha'], utc = False)\n",
    "    anno19.set_index('fecha',inplace=True)\n",
    "    anno20 = pd.read_json(\"C:/Users/juanm/Desktop/Asignaturas/Cuarto/TFG/Scrapper/AEMET/\" + estacion + \"/\" + estacion +\" 2020-01-01_2020-12-30.json\", convert_dates=True)\n",
    "    anno20['fecha'] = pd.to_datetime(anno20['fecha'], utc = False)\n",
    "    anno20.set_index('fecha',inplace=True)\n",
    "    anno21 = pd.read_json(\"C:/Users/juanm/Desktop/Asignaturas/Cuarto/TFG/Scrapper/AEMET/\" + estacion + \"/\" + estacion +\" 2021-01-01_2021-12-30.json\", convert_dates=True)\n",
    "    anno21['fecha'] = pd.to_datetime(anno21['fecha'], utc = False)\n",
    "    anno21.set_index('fecha',inplace=True)\n",
    "    anno22 = pd.read_json(\"C:/Users/juanm/Desktop/Asignaturas/Cuarto/TFG/Scrapper/AEMET/\" + estacion + \"/\" + estacion +\" 2022-01-01_2022-12-30.json\", convert_dates=True)\n",
    "    anno22['fecha'] = pd.to_datetime(anno22['fecha'], utc = False)\n",
    "    anno22.set_index('fecha',inplace=True)\n",
    "    \n",
    "    annoDF = pd.concat([anno12, anno13,anno14,anno15,anno16,anno17,anno18,anno19,anno20,anno21,anno22], axis=0)\n",
    "    \n",
    "    annoDF.drop_duplicates(keep='first')\n",
    "    annoDF.index.names = ['Fecha']\n",
    "    \n",
    "    return annoDF"
   ]
  },
  {
   "cell_type": "code",
   "execution_count": 15,
   "id": "47738090",
   "metadata": {},
   "outputs": [],
   "source": [
    "antequeraDF11 = concatenarEstaciones11(asignaciones.get(\"GUADALHORCE\"))"
   ]
  },
  {
   "cell_type": "code",
   "execution_count": 16,
   "id": "9226f7ce",
   "metadata": {},
   "outputs": [],
   "source": [
    "antequeraDF11.to_csv(\"C:/Users/juanm/Desktop/estacion.csv\")\n",
    "horceDF.to_csv(\"C:/Users/juanm/Desktop/pantano.csv\")"
   ]
  },
  {
   "cell_type": "markdown",
   "id": "0083dfa3",
   "metadata": {},
   "source": [
    "Pues ahora me entero de que faltan días en ambos grupos de datos, perfecto, haré el merge y a ver que sale"
   ]
  },
  {
   "cell_type": "code",
   "execution_count": 17,
   "id": "689fe740",
   "metadata": {},
   "outputs": [],
   "source": [
    "dataset = concatenarReservas([horceDF, antequeraDF11])"
   ]
  },
  {
   "cell_type": "markdown",
   "id": "31a34780",
   "metadata": {},
   "source": [
    "Esto elimina un montón de filas, las que no tengan índice compartido"
   ]
  },
  {
   "cell_type": "code",
   "execution_count": 18,
   "id": "b2177db6",
   "metadata": {},
   "outputs": [
    {
     "data": {
      "text/html": [
       "<div>\n",
       "<style scoped>\n",
       "    .dataframe tbody tr th:only-of-type {\n",
       "        vertical-align: middle;\n",
       "    }\n",
       "\n",
       "    .dataframe tbody tr th {\n",
       "        vertical-align: top;\n",
       "    }\n",
       "\n",
       "    .dataframe thead th {\n",
       "        text-align: right;\n",
       "    }\n",
       "</style>\n",
       "<table border=\"1\" class=\"dataframe\">\n",
       "  <thead>\n",
       "    <tr style=\"text-align: right;\">\n",
       "      <th></th>\n",
       "      <th>Reserva</th>\n",
       "      <th>indicativo</th>\n",
       "      <th>nombre</th>\n",
       "      <th>provincia</th>\n",
       "      <th>altitud</th>\n",
       "      <th>tmed</th>\n",
       "      <th>prec</th>\n",
       "      <th>tmin</th>\n",
       "      <th>horatmin</th>\n",
       "      <th>tmax</th>\n",
       "      <th>horatmax</th>\n",
       "      <th>dir</th>\n",
       "      <th>velmedia</th>\n",
       "      <th>racha</th>\n",
       "      <th>horaracha</th>\n",
       "      <th>presMax</th>\n",
       "      <th>horaPresMax</th>\n",
       "      <th>presMin</th>\n",
       "      <th>horaPresMin</th>\n",
       "    </tr>\n",
       "    <tr>\n",
       "      <th>Fecha</th>\n",
       "      <th></th>\n",
       "      <th></th>\n",
       "      <th></th>\n",
       "      <th></th>\n",
       "      <th></th>\n",
       "      <th></th>\n",
       "      <th></th>\n",
       "      <th></th>\n",
       "      <th></th>\n",
       "      <th></th>\n",
       "      <th></th>\n",
       "      <th></th>\n",
       "      <th></th>\n",
       "      <th></th>\n",
       "      <th></th>\n",
       "      <th></th>\n",
       "      <th></th>\n",
       "      <th></th>\n",
       "      <th></th>\n",
       "    </tr>\n",
       "  </thead>\n",
       "  <tbody>\n",
       "    <tr>\n",
       "      <th>2012-01-01</th>\n",
       "      <td>108.36</td>\n",
       "      <td>6106X</td>\n",
       "      <td>ANTEQUERA</td>\n",
       "      <td>MALAGA</td>\n",
       "      <td>408</td>\n",
       "      <td>8,4</td>\n",
       "      <td>0,0</td>\n",
       "      <td>-0,1</td>\n",
       "      <td>06:50</td>\n",
       "      <td>16,9</td>\n",
       "      <td>14:00</td>\n",
       "      <td>32.0</td>\n",
       "      <td>0,6</td>\n",
       "      <td>4,7</td>\n",
       "      <td>14:20</td>\n",
       "      <td>981,6</td>\n",
       "      <td>24</td>\n",
       "      <td>978,3</td>\n",
       "      <td>15</td>\n",
       "    </tr>\n",
       "    <tr>\n",
       "      <th>2012-01-02</th>\n",
       "      <td>108.52</td>\n",
       "      <td>6106X</td>\n",
       "      <td>ANTEQUERA</td>\n",
       "      <td>MALAGA</td>\n",
       "      <td>408</td>\n",
       "      <td>9,5</td>\n",
       "      <td>0,0</td>\n",
       "      <td>5,1</td>\n",
       "      <td>00:10</td>\n",
       "      <td>13,9</td>\n",
       "      <td>15:40</td>\n",
       "      <td>29.0</td>\n",
       "      <td>2,2</td>\n",
       "      <td>7,2</td>\n",
       "      <td>12:40</td>\n",
       "      <td>985,1</td>\n",
       "      <td>23</td>\n",
       "      <td>981,1</td>\n",
       "      <td>01</td>\n",
       "    </tr>\n",
       "    <tr>\n",
       "      <th>2012-01-03</th>\n",
       "      <td>108.64</td>\n",
       "      <td>6106X</td>\n",
       "      <td>ANTEQUERA</td>\n",
       "      <td>MALAGA</td>\n",
       "      <td>408</td>\n",
       "      <td>7,6</td>\n",
       "      <td>0,0</td>\n",
       "      <td>-1,3</td>\n",
       "      <td>07:50</td>\n",
       "      <td>16,4</td>\n",
       "      <td>14:50</td>\n",
       "      <td>99.0</td>\n",
       "      <td>1,4</td>\n",
       "      <td>5,0</td>\n",
       "      <td>17:50</td>\n",
       "      <td>985,3</td>\n",
       "      <td>11</td>\n",
       "      <td>982,0</td>\n",
       "      <td>15</td>\n",
       "    </tr>\n",
       "    <tr>\n",
       "      <th>2012-01-06</th>\n",
       "      <td>109.13</td>\n",
       "      <td>6106X</td>\n",
       "      <td>ANTEQUERA</td>\n",
       "      <td>MALAGA</td>\n",
       "      <td>408</td>\n",
       "      <td>9,0</td>\n",
       "      <td>0,0</td>\n",
       "      <td>-1,2</td>\n",
       "      <td>07:30</td>\n",
       "      <td>19,1</td>\n",
       "      <td>15:00</td>\n",
       "      <td>34.0</td>\n",
       "      <td>0,3</td>\n",
       "      <td>5,3</td>\n",
       "      <td>16:10</td>\n",
       "      <td>981,0</td>\n",
       "      <td>Varias</td>\n",
       "      <td>977,4</td>\n",
       "      <td>15</td>\n",
       "    </tr>\n",
       "    <tr>\n",
       "      <th>2012-01-07</th>\n",
       "      <td>112.91</td>\n",
       "      <td>6106X</td>\n",
       "      <td>ANTEQUERA</td>\n",
       "      <td>MALAGA</td>\n",
       "      <td>408</td>\n",
       "      <td>10,2</td>\n",
       "      <td>0,0</td>\n",
       "      <td>2,2</td>\n",
       "      <td>07:00</td>\n",
       "      <td>18,2</td>\n",
       "      <td>13:40</td>\n",
       "      <td>99.0</td>\n",
       "      <td>2,5</td>\n",
       "      <td>8,6</td>\n",
       "      <td>Varias</td>\n",
       "      <td>980,4</td>\n",
       "      <td>10</td>\n",
       "      <td>977,5</td>\n",
       "      <td>16</td>\n",
       "    </tr>\n",
       "    <tr>\n",
       "      <th>...</th>\n",
       "      <td>...</td>\n",
       "      <td>...</td>\n",
       "      <td>...</td>\n",
       "      <td>...</td>\n",
       "      <td>...</td>\n",
       "      <td>...</td>\n",
       "      <td>...</td>\n",
       "      <td>...</td>\n",
       "      <td>...</td>\n",
       "      <td>...</td>\n",
       "      <td>...</td>\n",
       "      <td>...</td>\n",
       "      <td>...</td>\n",
       "      <td>...</td>\n",
       "      <td>...</td>\n",
       "      <td>...</td>\n",
       "      <td>...</td>\n",
       "      <td>...</td>\n",
       "      <td>...</td>\n",
       "    </tr>\n",
       "    <tr>\n",
       "      <th>2022-11-18</th>\n",
       "      <td>41.18</td>\n",
       "      <td>6106X</td>\n",
       "      <td>ANTEQUERA</td>\n",
       "      <td>MALAGA</td>\n",
       "      <td>408</td>\n",
       "      <td>11,8</td>\n",
       "      <td>1,6</td>\n",
       "      <td>8,1</td>\n",
       "      <td>23:10</td>\n",
       "      <td>15,5</td>\n",
       "      <td>00:10</td>\n",
       "      <td>31.0</td>\n",
       "      <td>1,9</td>\n",
       "      <td>10,0</td>\n",
       "      <td>15:50</td>\n",
       "      <td>972,2</td>\n",
       "      <td>24</td>\n",
       "      <td>965,9</td>\n",
       "      <td>13</td>\n",
       "    </tr>\n",
       "    <tr>\n",
       "      <th>2022-11-19</th>\n",
       "      <td>41.17</td>\n",
       "      <td>6106X</td>\n",
       "      <td>ANTEQUERA</td>\n",
       "      <td>MALAGA</td>\n",
       "      <td>408</td>\n",
       "      <td>9,8</td>\n",
       "      <td>0,0</td>\n",
       "      <td>6,2</td>\n",
       "      <td>07:30</td>\n",
       "      <td>13,5</td>\n",
       "      <td>Varias</td>\n",
       "      <td>31.0</td>\n",
       "      <td>1,7</td>\n",
       "      <td>9,2</td>\n",
       "      <td>10:50</td>\n",
       "      <td>976,0</td>\n",
       "      <td>23</td>\n",
       "      <td>971,5</td>\n",
       "      <td>02</td>\n",
       "    </tr>\n",
       "    <tr>\n",
       "      <th>2022-11-22</th>\n",
       "      <td>41.12</td>\n",
       "      <td>6106X</td>\n",
       "      <td>ANTEQUERA</td>\n",
       "      <td>MALAGA</td>\n",
       "      <td>408</td>\n",
       "      <td>12,2</td>\n",
       "      <td>0,1</td>\n",
       "      <td>9,8</td>\n",
       "      <td>07:40</td>\n",
       "      <td>14,6</td>\n",
       "      <td>14:20</td>\n",
       "      <td>99.0</td>\n",
       "      <td>1,9</td>\n",
       "      <td>7,8</td>\n",
       "      <td>Varias</td>\n",
       "      <td>974,6</td>\n",
       "      <td>11</td>\n",
       "      <td>972,2</td>\n",
       "      <td>04</td>\n",
       "    </tr>\n",
       "    <tr>\n",
       "      <th>2022-11-23</th>\n",
       "      <td>41.07</td>\n",
       "      <td>6106X</td>\n",
       "      <td>ANTEQUERA</td>\n",
       "      <td>MALAGA</td>\n",
       "      <td>408</td>\n",
       "      <td>14,2</td>\n",
       "      <td>0,7</td>\n",
       "      <td>10,9</td>\n",
       "      <td>23:59</td>\n",
       "      <td>17,4</td>\n",
       "      <td>14:50</td>\n",
       "      <td>29.0</td>\n",
       "      <td>1,1</td>\n",
       "      <td>8,6</td>\n",
       "      <td>03:00</td>\n",
       "      <td>973,3</td>\n",
       "      <td>11</td>\n",
       "      <td>971,1</td>\n",
       "      <td>06</td>\n",
       "    </tr>\n",
       "    <tr>\n",
       "      <th>2022-11-25</th>\n",
       "      <td>41.05</td>\n",
       "      <td>6106X</td>\n",
       "      <td>ANTEQUERA</td>\n",
       "      <td>MALAGA</td>\n",
       "      <td>408</td>\n",
       "      <td>13,4</td>\n",
       "      <td>0,0</td>\n",
       "      <td>8,2</td>\n",
       "      <td>23:59</td>\n",
       "      <td>18,6</td>\n",
       "      <td>13:00</td>\n",
       "      <td>2.0</td>\n",
       "      <td>0,8</td>\n",
       "      <td>6,1</td>\n",
       "      <td>14:10</td>\n",
       "      <td>979,1</td>\n",
       "      <td>24</td>\n",
       "      <td>973,4</td>\n",
       "      <td>01</td>\n",
       "    </tr>\n",
       "  </tbody>\n",
       "</table>\n",
       "<p>1995 rows × 19 columns</p>\n",
       "</div>"
      ],
      "text/plain": [
       "            Reserva indicativo     nombre provincia  altitud  tmed prec  tmin  \\\n",
       "Fecha                                                                           \n",
       "2012-01-01   108.36      6106X  ANTEQUERA    MALAGA      408   8,4  0,0  -0,1   \n",
       "2012-01-02   108.52      6106X  ANTEQUERA    MALAGA      408   9,5  0,0   5,1   \n",
       "2012-01-03   108.64      6106X  ANTEQUERA    MALAGA      408   7,6  0,0  -1,3   \n",
       "2012-01-06   109.13      6106X  ANTEQUERA    MALAGA      408   9,0  0,0  -1,2   \n",
       "2012-01-07   112.91      6106X  ANTEQUERA    MALAGA      408  10,2  0,0   2,2   \n",
       "...             ...        ...        ...       ...      ...   ...  ...   ...   \n",
       "2022-11-18    41.18      6106X  ANTEQUERA    MALAGA      408  11,8  1,6   8,1   \n",
       "2022-11-19    41.17      6106X  ANTEQUERA    MALAGA      408   9,8  0,0   6,2   \n",
       "2022-11-22    41.12      6106X  ANTEQUERA    MALAGA      408  12,2  0,1   9,8   \n",
       "2022-11-23    41.07      6106X  ANTEQUERA    MALAGA      408  14,2  0,7  10,9   \n",
       "2022-11-25    41.05      6106X  ANTEQUERA    MALAGA      408  13,4  0,0   8,2   \n",
       "\n",
       "           horatmin  tmax horatmax   dir velmedia racha horaracha presMax  \\\n",
       "Fecha                                                                       \n",
       "2012-01-01    06:50  16,9    14:00  32.0      0,6   4,7     14:20   981,6   \n",
       "2012-01-02    00:10  13,9    15:40  29.0      2,2   7,2     12:40   985,1   \n",
       "2012-01-03    07:50  16,4    14:50  99.0      1,4   5,0     17:50   985,3   \n",
       "2012-01-06    07:30  19,1    15:00  34.0      0,3   5,3     16:10   981,0   \n",
       "2012-01-07    07:00  18,2    13:40  99.0      2,5   8,6    Varias   980,4   \n",
       "...             ...   ...      ...   ...      ...   ...       ...     ...   \n",
       "2022-11-18    23:10  15,5    00:10  31.0      1,9  10,0     15:50   972,2   \n",
       "2022-11-19    07:30  13,5   Varias  31.0      1,7   9,2     10:50   976,0   \n",
       "2022-11-22    07:40  14,6    14:20  99.0      1,9   7,8    Varias   974,6   \n",
       "2022-11-23    23:59  17,4    14:50  29.0      1,1   8,6     03:00   973,3   \n",
       "2022-11-25    23:59  18,6    13:00   2.0      0,8   6,1     14:10   979,1   \n",
       "\n",
       "           horaPresMax presMin horaPresMin  \n",
       "Fecha                                       \n",
       "2012-01-01          24   978,3          15  \n",
       "2012-01-02          23   981,1          01  \n",
       "2012-01-03          11   982,0          15  \n",
       "2012-01-06      Varias   977,4          15  \n",
       "2012-01-07          10   977,5          16  \n",
       "...                ...     ...         ...  \n",
       "2022-11-18          24   965,9          13  \n",
       "2022-11-19          23   971,5          02  \n",
       "2022-11-22          11   972,2          04  \n",
       "2022-11-23          11   971,1          06  \n",
       "2022-11-25          24   973,4          01  \n",
       "\n",
       "[1995 rows x 19 columns]"
      ]
     },
     "execution_count": 18,
     "metadata": {},
     "output_type": "execute_result"
    }
   ],
   "source": [
    "dataset"
   ]
  },
  {
   "cell_type": "code",
   "execution_count": 18,
   "id": "07a1ac57",
   "metadata": {},
   "outputs": [],
   "source": [
    "dataset.to_csv(\"C:/Users/juanm/Desktop/merged.csv\")"
   ]
  },
  {
   "cell_type": "markdown",
   "id": "27f4a29a",
   "metadata": {},
   "source": [
    "Si, sin duda faltan datos , vamos a borrar primero las columnas que no me importan, y luego las filas donde falten cosas, que remedio."
   ]
  },
  {
   "cell_type": "code",
   "execution_count": 19,
   "id": "95556ea8",
   "metadata": {},
   "outputs": [],
   "source": [
    "def prepararDataset(df):\n",
    "    del df[\"indicativo\"]\n",
    "    del df[\"nombre\"]\n",
    "    del df[\"provincia\"]\n",
    "    del df[\"altitud\"]\n",
    "    del df[\"tmin\"]\n",
    "    del df[\"horatmin\"]\n",
    "    del df[\"tmax\"]\n",
    "    del df[\"horatmax\"]\n",
    "    del df[\"dir\"]\n",
    "    del df[\"velmedia\"]\n",
    "    del df[\"racha\"]\n",
    "    del df[\"horaracha\"]\n",
    "    del df[\"presMax\"]\n",
    "    del df[\"horaPresMax\"]\n",
    "    del df[\"presMin\"]\n",
    "    del df[\"horaPresMin\"]\n",
    "    \n",
    "    df['tmed'] = df['tmed'].str.replace(',','.')\n",
    "    df['prec'] = df['prec'].str.replace(',','.')\n",
    "    \n",
    "    df['tmed']=df['tmed'].astype(float)\n",
    "    df['prec']=df['prec'].astype(float)\n",
    "    \n",
    "    return df"
   ]
  },
  {
   "cell_type": "code",
   "execution_count": 20,
   "id": "215730b4",
   "metadata": {},
   "outputs": [],
   "source": [
    "dataset = prepararDataset(dataset)"
   ]
  },
  {
   "cell_type": "code",
   "execution_count": 21,
   "id": "76906bd0",
   "metadata": {},
   "outputs": [
    {
     "data": {
      "text/html": [
       "<div>\n",
       "<style scoped>\n",
       "    .dataframe tbody tr th:only-of-type {\n",
       "        vertical-align: middle;\n",
       "    }\n",
       "\n",
       "    .dataframe tbody tr th {\n",
       "        vertical-align: top;\n",
       "    }\n",
       "\n",
       "    .dataframe thead th {\n",
       "        text-align: right;\n",
       "    }\n",
       "</style>\n",
       "<table border=\"1\" class=\"dataframe\">\n",
       "  <thead>\n",
       "    <tr style=\"text-align: right;\">\n",
       "      <th></th>\n",
       "      <th>Reserva</th>\n",
       "      <th>tmed</th>\n",
       "      <th>prec</th>\n",
       "    </tr>\n",
       "    <tr>\n",
       "      <th>Fecha</th>\n",
       "      <th></th>\n",
       "      <th></th>\n",
       "      <th></th>\n",
       "    </tr>\n",
       "  </thead>\n",
       "  <tbody>\n",
       "    <tr>\n",
       "      <th>2012-01-01</th>\n",
       "      <td>108.36</td>\n",
       "      <td>8.4</td>\n",
       "      <td>0.0</td>\n",
       "    </tr>\n",
       "    <tr>\n",
       "      <th>2012-01-02</th>\n",
       "      <td>108.52</td>\n",
       "      <td>9.5</td>\n",
       "      <td>0.0</td>\n",
       "    </tr>\n",
       "    <tr>\n",
       "      <th>2012-01-03</th>\n",
       "      <td>108.64</td>\n",
       "      <td>7.6</td>\n",
       "      <td>0.0</td>\n",
       "    </tr>\n",
       "    <tr>\n",
       "      <th>2012-01-06</th>\n",
       "      <td>109.13</td>\n",
       "      <td>9.0</td>\n",
       "      <td>0.0</td>\n",
       "    </tr>\n",
       "    <tr>\n",
       "      <th>2012-01-07</th>\n",
       "      <td>112.91</td>\n",
       "      <td>10.2</td>\n",
       "      <td>0.0</td>\n",
       "    </tr>\n",
       "    <tr>\n",
       "      <th>2012-01-09</th>\n",
       "      <td>112.02</td>\n",
       "      <td>8.0</td>\n",
       "      <td>0.0</td>\n",
       "    </tr>\n",
       "    <tr>\n",
       "      <th>2012-01-11</th>\n",
       "      <td>112.31</td>\n",
       "      <td>11.4</td>\n",
       "      <td>0.0</td>\n",
       "    </tr>\n",
       "    <tr>\n",
       "      <th>2012-01-17</th>\n",
       "      <td>112.78</td>\n",
       "      <td>8.8</td>\n",
       "      <td>0.0</td>\n",
       "    </tr>\n",
       "    <tr>\n",
       "      <th>2012-01-18</th>\n",
       "      <td>112.91</td>\n",
       "      <td>6.9</td>\n",
       "      <td>0.0</td>\n",
       "    </tr>\n",
       "    <tr>\n",
       "      <th>2012-01-24</th>\n",
       "      <td>113.27</td>\n",
       "      <td>10.4</td>\n",
       "      <td>0.0</td>\n",
       "    </tr>\n",
       "    <tr>\n",
       "      <th>2012-01-26</th>\n",
       "      <td>113.43</td>\n",
       "      <td>8.0</td>\n",
       "      <td>0.0</td>\n",
       "    </tr>\n",
       "    <tr>\n",
       "      <th>2012-01-31</th>\n",
       "      <td>113.77</td>\n",
       "      <td>NaN</td>\n",
       "      <td>0.0</td>\n",
       "    </tr>\n",
       "    <tr>\n",
       "      <th>2012-02-03</th>\n",
       "      <td>113.95</td>\n",
       "      <td>1.8</td>\n",
       "      <td>0.0</td>\n",
       "    </tr>\n",
       "    <tr>\n",
       "      <th>2012-02-04</th>\n",
       "      <td>113.97</td>\n",
       "      <td>1.4</td>\n",
       "      <td>0.0</td>\n",
       "    </tr>\n",
       "    <tr>\n",
       "      <th>2012-02-06</th>\n",
       "      <td>114.03</td>\n",
       "      <td>8.0</td>\n",
       "      <td>0.0</td>\n",
       "    </tr>\n",
       "    <tr>\n",
       "      <th>2012-02-07</th>\n",
       "      <td>113.97</td>\n",
       "      <td>7.4</td>\n",
       "      <td>0.0</td>\n",
       "    </tr>\n",
       "    <tr>\n",
       "      <th>2012-02-09</th>\n",
       "      <td>114.00</td>\n",
       "      <td>2.4</td>\n",
       "      <td>0.0</td>\n",
       "    </tr>\n",
       "    <tr>\n",
       "      <th>2012-02-12</th>\n",
       "      <td>114.08</td>\n",
       "      <td>0.0</td>\n",
       "      <td>0.0</td>\n",
       "    </tr>\n",
       "    <tr>\n",
       "      <th>2012-02-14</th>\n",
       "      <td>114.29</td>\n",
       "      <td>2.8</td>\n",
       "      <td>0.0</td>\n",
       "    </tr>\n",
       "    <tr>\n",
       "      <th>2012-02-15</th>\n",
       "      <td>114.29</td>\n",
       "      <td>5.6</td>\n",
       "      <td>0.0</td>\n",
       "    </tr>\n",
       "    <tr>\n",
       "      <th>2012-02-17</th>\n",
       "      <td>114.42</td>\n",
       "      <td>7.0</td>\n",
       "      <td>2.6</td>\n",
       "    </tr>\n",
       "    <tr>\n",
       "      <th>2012-02-19</th>\n",
       "      <td>114.42</td>\n",
       "      <td>7.8</td>\n",
       "      <td>0.0</td>\n",
       "    </tr>\n",
       "    <tr>\n",
       "      <th>2012-02-20</th>\n",
       "      <td>114.59</td>\n",
       "      <td>7.6</td>\n",
       "      <td>NaN</td>\n",
       "    </tr>\n",
       "    <tr>\n",
       "      <th>2012-02-23</th>\n",
       "      <td>114.58</td>\n",
       "      <td>8.0</td>\n",
       "      <td>0.0</td>\n",
       "    </tr>\n",
       "    <tr>\n",
       "      <th>2012-02-24</th>\n",
       "      <td>114.61</td>\n",
       "      <td>10.7</td>\n",
       "      <td>0.0</td>\n",
       "    </tr>\n",
       "    <tr>\n",
       "      <th>2012-02-26</th>\n",
       "      <td>114.61</td>\n",
       "      <td>9.9</td>\n",
       "      <td>0.0</td>\n",
       "    </tr>\n",
       "    <tr>\n",
       "      <th>2012-02-27</th>\n",
       "      <td>114.58</td>\n",
       "      <td>11.2</td>\n",
       "      <td>0.0</td>\n",
       "    </tr>\n",
       "    <tr>\n",
       "      <th>2012-02-29</th>\n",
       "      <td>114.58</td>\n",
       "      <td>12.6</td>\n",
       "      <td>0.0</td>\n",
       "    </tr>\n",
       "    <tr>\n",
       "      <th>2012-03-03</th>\n",
       "      <td>114.58</td>\n",
       "      <td>11.2</td>\n",
       "      <td>0.0</td>\n",
       "    </tr>\n",
       "    <tr>\n",
       "      <th>2012-03-04</th>\n",
       "      <td>114.61</td>\n",
       "      <td>11.0</td>\n",
       "      <td>0.0</td>\n",
       "    </tr>\n",
       "    <tr>\n",
       "      <th>2012-03-06</th>\n",
       "      <td>114.61</td>\n",
       "      <td>11.4</td>\n",
       "      <td>0.0</td>\n",
       "    </tr>\n",
       "    <tr>\n",
       "      <th>2012-03-08</th>\n",
       "      <td>114.61</td>\n",
       "      <td>9.9</td>\n",
       "      <td>0.0</td>\n",
       "    </tr>\n",
       "    <tr>\n",
       "      <th>2012-03-09</th>\n",
       "      <td>114.61</td>\n",
       "      <td>10.2</td>\n",
       "      <td>0.0</td>\n",
       "    </tr>\n",
       "    <tr>\n",
       "      <th>2012-03-11</th>\n",
       "      <td>114.61</td>\n",
       "      <td>10.4</td>\n",
       "      <td>0.0</td>\n",
       "    </tr>\n",
       "    <tr>\n",
       "      <th>2012-03-14</th>\n",
       "      <td>114.58</td>\n",
       "      <td>17.4</td>\n",
       "      <td>0.0</td>\n",
       "    </tr>\n",
       "    <tr>\n",
       "      <th>2012-03-15</th>\n",
       "      <td>114.52</td>\n",
       "      <td>16.6</td>\n",
       "      <td>0.0</td>\n",
       "    </tr>\n",
       "    <tr>\n",
       "      <th>2012-03-17</th>\n",
       "      <td>114.21</td>\n",
       "      <td>12.7</td>\n",
       "      <td>0.0</td>\n",
       "    </tr>\n",
       "    <tr>\n",
       "      <th>2012-03-19</th>\n",
       "      <td>113.97</td>\n",
       "      <td>9.9</td>\n",
       "      <td>0.0</td>\n",
       "    </tr>\n",
       "    <tr>\n",
       "      <th>2012-03-21</th>\n",
       "      <td>113.64</td>\n",
       "      <td>8.5</td>\n",
       "      <td>0.0</td>\n",
       "    </tr>\n",
       "    <tr>\n",
       "      <th>2012-03-26</th>\n",
       "      <td>113.12</td>\n",
       "      <td>NaN</td>\n",
       "      <td>0.0</td>\n",
       "    </tr>\n",
       "    <tr>\n",
       "      <th>2012-03-28</th>\n",
       "      <td>113.06</td>\n",
       "      <td>15.0</td>\n",
       "      <td>0.0</td>\n",
       "    </tr>\n",
       "    <tr>\n",
       "      <th>2012-03-30</th>\n",
       "      <td>112.90</td>\n",
       "      <td>15.2</td>\n",
       "      <td>0.0</td>\n",
       "    </tr>\n",
       "    <tr>\n",
       "      <th>2012-03-31</th>\n",
       "      <td>112.83</td>\n",
       "      <td>12.8</td>\n",
       "      <td>1.5</td>\n",
       "    </tr>\n",
       "    <tr>\n",
       "      <th>2012-04-02</th>\n",
       "      <td>112.91</td>\n",
       "      <td>12.3</td>\n",
       "      <td>1.5</td>\n",
       "    </tr>\n",
       "    <tr>\n",
       "      <th>2012-04-05</th>\n",
       "      <td>112.91</td>\n",
       "      <td>10.7</td>\n",
       "      <td>0.0</td>\n",
       "    </tr>\n",
       "    <tr>\n",
       "      <th>2012-04-06</th>\n",
       "      <td>112.83</td>\n",
       "      <td>8.9</td>\n",
       "      <td>1.6</td>\n",
       "    </tr>\n",
       "    <tr>\n",
       "      <th>2012-04-09</th>\n",
       "      <td>112.83</td>\n",
       "      <td>16.0</td>\n",
       "      <td>0.0</td>\n",
       "    </tr>\n",
       "    <tr>\n",
       "      <th>2012-04-10</th>\n",
       "      <td>112.75</td>\n",
       "      <td>15.6</td>\n",
       "      <td>0.0</td>\n",
       "    </tr>\n",
       "    <tr>\n",
       "      <th>2012-04-12</th>\n",
       "      <td>112.74</td>\n",
       "      <td>13.6</td>\n",
       "      <td>1.2</td>\n",
       "    </tr>\n",
       "    <tr>\n",
       "      <th>2012-04-13</th>\n",
       "      <td>112.71</td>\n",
       "      <td>12.7</td>\n",
       "      <td>0.1</td>\n",
       "    </tr>\n",
       "  </tbody>\n",
       "</table>\n",
       "</div>"
      ],
      "text/plain": [
       "            Reserva  tmed  prec\n",
       "Fecha                          \n",
       "2012-01-01   108.36   8.4   0.0\n",
       "2012-01-02   108.52   9.5   0.0\n",
       "2012-01-03   108.64   7.6   0.0\n",
       "2012-01-06   109.13   9.0   0.0\n",
       "2012-01-07   112.91  10.2   0.0\n",
       "2012-01-09   112.02   8.0   0.0\n",
       "2012-01-11   112.31  11.4   0.0\n",
       "2012-01-17   112.78   8.8   0.0\n",
       "2012-01-18   112.91   6.9   0.0\n",
       "2012-01-24   113.27  10.4   0.0\n",
       "2012-01-26   113.43   8.0   0.0\n",
       "2012-01-31   113.77   NaN   0.0\n",
       "2012-02-03   113.95   1.8   0.0\n",
       "2012-02-04   113.97   1.4   0.0\n",
       "2012-02-06   114.03   8.0   0.0\n",
       "2012-02-07   113.97   7.4   0.0\n",
       "2012-02-09   114.00   2.4   0.0\n",
       "2012-02-12   114.08   0.0   0.0\n",
       "2012-02-14   114.29   2.8   0.0\n",
       "2012-02-15   114.29   5.6   0.0\n",
       "2012-02-17   114.42   7.0   2.6\n",
       "2012-02-19   114.42   7.8   0.0\n",
       "2012-02-20   114.59   7.6   NaN\n",
       "2012-02-23   114.58   8.0   0.0\n",
       "2012-02-24   114.61  10.7   0.0\n",
       "2012-02-26   114.61   9.9   0.0\n",
       "2012-02-27   114.58  11.2   0.0\n",
       "2012-02-29   114.58  12.6   0.0\n",
       "2012-03-03   114.58  11.2   0.0\n",
       "2012-03-04   114.61  11.0   0.0\n",
       "2012-03-06   114.61  11.4   0.0\n",
       "2012-03-08   114.61   9.9   0.0\n",
       "2012-03-09   114.61  10.2   0.0\n",
       "2012-03-11   114.61  10.4   0.0\n",
       "2012-03-14   114.58  17.4   0.0\n",
       "2012-03-15   114.52  16.6   0.0\n",
       "2012-03-17   114.21  12.7   0.0\n",
       "2012-03-19   113.97   9.9   0.0\n",
       "2012-03-21   113.64   8.5   0.0\n",
       "2012-03-26   113.12   NaN   0.0\n",
       "2012-03-28   113.06  15.0   0.0\n",
       "2012-03-30   112.90  15.2   0.0\n",
       "2012-03-31   112.83  12.8   1.5\n",
       "2012-04-02   112.91  12.3   1.5\n",
       "2012-04-05   112.91  10.7   0.0\n",
       "2012-04-06   112.83   8.9   1.6\n",
       "2012-04-09   112.83  16.0   0.0\n",
       "2012-04-10   112.75  15.6   0.0\n",
       "2012-04-12   112.74  13.6   1.2\n",
       "2012-04-13   112.71  12.7   0.1"
      ]
     },
     "execution_count": 21,
     "metadata": {},
     "output_type": "execute_result"
    }
   ],
   "source": [
    "dataset.head(50)"
   ]
  },
  {
   "cell_type": "markdown",
   "id": "e00cb7bb",
   "metadata": {},
   "source": [
    "Poco, de momento, luego veremos si añadiendo más datos sale mejor la cosa"
   ]
  },
  {
   "cell_type": "code",
   "execution_count": 21,
   "id": "ab0b9204",
   "metadata": {},
   "outputs": [],
   "source": [
    "dataset.dropna(axis=0, inplace=True)"
   ]
  },
  {
   "cell_type": "code",
   "execution_count": 23,
   "id": "61f0274e",
   "metadata": {},
   "outputs": [],
   "source": [
    "dataset.to_csv(\"C:/Users/juanm/Desktop/merged.csv\")"
   ]
  },
  {
   "cell_type": "code",
   "execution_count": 22,
   "id": "f80a0e63",
   "metadata": {},
   "outputs": [
    {
     "data": {
      "text/plain": [
       "Reserva    float64\n",
       "tmed       float64\n",
       "prec       float64\n",
       "dtype: object"
      ]
     },
     "execution_count": 22,
     "metadata": {},
     "output_type": "execute_result"
    }
   ],
   "source": [
    "dataset.dtypes"
   ]
  },
  {
   "cell_type": "code",
   "execution_count": 23,
   "id": "e48e719e",
   "metadata": {},
   "outputs": [
    {
     "data": {
      "image/png": "[encoded data removed]",
      "text/plain": [
       "<Figure size 1000x500 with 1 Axes>"
      ]
     },
     "metadata": {},
     "output_type": "display_data"
    }
   ],
   "source": [
    "_ = dataset.plot(style='-', figsize=(10,5), title='Nivel del agua')\n",
    "plt.legend(bbox_to_anchor=(1.02, 1), loc='upper left', borderaxespad=0)\n",
    "plt.show()"
   ]
  },
  {
   "cell_type": "markdown",
   "id": "85efb8cc",
   "metadata": {},
   "source": [
    "Se me hace a mi como que esto es muy poco no?"
   ]
  },
  {
   "cell_type": "code",
   "execution_count": 26,
   "id": "294a4014",
   "metadata": {},
   "outputs": [
    {
     "data": {
      "text/html": [
       "<div>\n",
       "<style scoped>\n",
       "    .dataframe tbody tr th:only-of-type {\n",
       "        vertical-align: middle;\n",
       "    }\n",
       "\n",
       "    .dataframe tbody tr th {\n",
       "        vertical-align: top;\n",
       "    }\n",
       "\n",
       "    .dataframe thead th {\n",
       "        text-align: right;\n",
       "    }\n",
       "</style>\n",
       "<table border=\"1\" class=\"dataframe\">\n",
       "  <thead>\n",
       "    <tr style=\"text-align: right;\">\n",
       "      <th></th>\n",
       "      <th>Reserva</th>\n",
       "    </tr>\n",
       "    <tr>\n",
       "      <th>Fecha</th>\n",
       "      <th></th>\n",
       "    </tr>\n",
       "  </thead>\n",
       "  <tbody>\n",
       "    <tr>\n",
       "      <th>2012-01-01</th>\n",
       "      <td>108.36</td>\n",
       "    </tr>\n",
       "    <tr>\n",
       "      <th>2012-01-02</th>\n",
       "      <td>108.52</td>\n",
       "    </tr>\n",
       "    <tr>\n",
       "      <th>2012-01-03</th>\n",
       "      <td>108.64</td>\n",
       "    </tr>\n",
       "    <tr>\n",
       "      <th>2012-01-06</th>\n",
       "      <td>109.13</td>\n",
       "    </tr>\n",
       "    <tr>\n",
       "      <th>2012-01-07</th>\n",
       "      <td>112.91</td>\n",
       "    </tr>\n",
       "    <tr>\n",
       "      <th>...</th>\n",
       "      <td>...</td>\n",
       "    </tr>\n",
       "    <tr>\n",
       "      <th>2022-12-22</th>\n",
       "      <td>44.96</td>\n",
       "    </tr>\n",
       "    <tr>\n",
       "      <th>2022-12-24</th>\n",
       "      <td>45.12</td>\n",
       "    </tr>\n",
       "    <tr>\n",
       "      <th>2022-12-26</th>\n",
       "      <td>45.23</td>\n",
       "    </tr>\n",
       "    <tr>\n",
       "      <th>2022-12-29</th>\n",
       "      <td>45.34</td>\n",
       "    </tr>\n",
       "    <tr>\n",
       "      <th>2022-12-30</th>\n",
       "      <td>45.35</td>\n",
       "    </tr>\n",
       "  </tbody>\n",
       "</table>\n",
       "<p>2200 rows × 1 columns</p>\n",
       "</div>"
      ],
      "text/plain": [
       "            Reserva\n",
       "Fecha              \n",
       "2012-01-01   108.36\n",
       "2012-01-02   108.52\n",
       "2012-01-03   108.64\n",
       "2012-01-06   109.13\n",
       "2012-01-07   112.91\n",
       "...             ...\n",
       "2022-12-22    44.96\n",
       "2022-12-24    45.12\n",
       "2022-12-26    45.23\n",
       "2022-12-29    45.34\n",
       "2022-12-30    45.35\n",
       "\n",
       "[2200 rows x 1 columns]"
      ]
     },
     "execution_count": 26,
     "metadata": {},
     "output_type": "execute_result"
    }
   ],
   "source": [
    "horceDF"
   ]
  },
  {
   "cell_type": "markdown",
   "id": "62942929",
   "metadata": {},
   "source": [
    "Bueno, 400 filas menos, a ver si merece la pena\n",
    "\n",
    "## Entrenamiento"
   ]
  },
  {
   "cell_type": "code",
   "execution_count": 31,
   "id": "14a075e6",
   "metadata": {
    "scrolled": false
   },
   "outputs": [
    {
     "data": {
      "application/vnd.jupyter.widget-view+json": {
       "model_id": "3144139a32724d95852dd5170efecd89",
       "version_major": 2,
       "version_minor": 0
      },
      "text/plain": [
       "  0%|          | 0/12000 [00:00<?, ?it/s]"
      ]
     },
     "metadata": {},
     "output_type": "display_data"
    }
   ],
   "source": [
    "num_epochs = 12000\n",
    "learning_rate = 0.01\n",
    "\n",
    "input_size = 3                  # 3 entradas en vez de 1\n",
    "hidden_size = 4\n",
    "num_layers = 1\n",
    "num_classes = 3                 \n",
    "\n",
    "train_percentage = ((7*100)/11)\n",
    "seq_length = 21\n",
    "\n",
    "gru, dataX, dataY, eficiencia = entrenarGRU(dataset, train_percentage, num_epochs, seq_length, learning_rate, input_size, hidden_size, num_layers, num_classes)"
   ]
  },
  {
   "cell_type": "code",
   "execution_count": 25,
   "id": "7f86a54e",
   "metadata": {},
   "outputs": [],
   "source": [
    "gru.eval()\n",
    "train_predict = gru(dataX)"
   ]
  },
  {
   "cell_type": "code",
   "execution_count": 26,
   "id": "0374ad86",
   "metadata": {},
   "outputs": [],
   "source": [
    "data_predict = train_predict.data.cpu().numpy()\n",
    "#data_predict = sc.inverse_transform(data_predict) \n",
    "train_predict_new = np.zeros(shape=(len(train_predict), 3))\n",
    "train_predict_new[:,0] = data_predict[:,0]\n",
    "trainPredict = sc.inverse_transform(train_predict_new )[:,0]"
   ]
  },
  {
   "cell_type": "code",
   "execution_count": 27,
   "id": "bc1c994f",
   "metadata": {
    "scrolled": false
   },
   "outputs": [
    {
     "data": {
      "image/png": "[encoded data removed]",
      "text/plain": [
       "<Figure size 640x480 with 1 Axes>"
      ]
     },
     "metadata": {},
     "output_type": "display_data"
    },
    {
     "data": {
      "image/png": "[encoded data removed]",
      "text/plain": [
       "<Figure size 640x480 with 1 Axes>"
      ]
     },
     "metadata": {},
     "output_type": "display_data"
    }
   ],
   "source": [
    "dataset[[\"Reserva\"]].plot()\n",
    "plt.suptitle('Datos originales')\n",
    "plt.show()\n",
    "plt.plot(trainPredict)\n",
    "plt.suptitle('GRU 11 años')\n",
    "plt.show()"
   ]
  },
  {
   "cell_type": "code",
   "execution_count": null,
   "id": "a3fd33ae",
   "metadata": {},
   "outputs": [],
   "source": []
  }
 ],
 "metadata": {
  "kernelspec": {
   "display_name": "Python 3 (ipykernel)",
   "language": "python",
   "name": "python3"
  },
  "language_info": {
   "codemirror_mode": {
    "name": "ipython",
    "version": 3
   },
   "file_extension": ".py",
   "mimetype": "text/x-python",
   "name": "python",
   "nbconvert_exporter": "python",
   "pygments_lexer": "ipython3",
   "version": "3.10.9"
  }
 },
 "nbformat": 4,
 "nbformat_minor": 5
}
